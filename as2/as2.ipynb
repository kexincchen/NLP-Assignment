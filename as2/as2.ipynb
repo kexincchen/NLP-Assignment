{
 "cells": [
  {
   "cell_type": "markdown",
   "metadata": {},
   "source": [
    "# Assignment 2: Language Modelling in Hangman"
   ]
  },
  {
   "cell_type": "markdown",
   "metadata": {
    "collapsed": true,
    "jupyter": {
     "outputs_hidden": true
    }
   },
   "source": [
    "Student Name: Kexin Chen\n",
    "\n",
    "Student ID: 1240143"
   ]
  },
  {
   "cell_type": "markdown",
   "metadata": {},
   "source": [
    "## General info"
   ]
  },
  {
   "cell_type": "markdown",
   "metadata": {},
   "source": [
    "<b>Due date</b>: Wednesday, 3 April 2024 1pm\n",
    "\n",
    "<b>Submission method</b>: Canvas submission\n",
    "\n",
    "<b>Submission materials</b>: completed copy of this iPython notebook\n",
    "\n",
    "<b>Late submissions</b>: -20% per day (both week and weekend days counted)\n",
    "\n",
    "<b>Marks</b>: 8% of mark for class (with 7% on correctness + 1% on quality and efficiency of your code)\n",
    "\n",
    "<b>Materials</b>: See \"Using Jupyter Notebook and Python page\" on Canvas (under Modules>Resources) for information on the basic setup required for this class, including an iPython notebook viewer and the python packages NLTK, Numpy, Scipy, Matplotlib, Scikit-Learn, Gensim, Keras and Pytorch. We recommend installing all the data for NLTK, since you will need various parts of it to complete this assignment. You can also use any Python built-in packages, but do not use any other 3rd party packages (the packages listed above are all fine to use); if your iPython notebook doesn't run on the marker's machine, you will lose marks. <b> You should use Python 3.8</b>; libraries/packages should be in their latest version that is compatible with python3.8.  \n",
    "\n",
    "To familiarize yourself with NLTK, here is a free online book:  Steven Bird, Ewan Klein, and Edward Loper (2009). <a href=https://www.nltk.org/book/>Natural Language Processing with Python</a>. O'Reilly Media Inc. You may also consult the <a href=https://www.nltk.org/api/nltk.html>NLTK API</a>.\n",
    "\n",
    "<b>Evaluation</b>: Your iPython notebook should run end-to-end without any errors in a reasonable amount of time, and you must follow all instructions provided below, including specific implementation requirements and instructions for what needs to be printed (please avoid printing output we don't ask for). You should edit the sections below where requested, but leave the rest of the code as is. You should leave the output from running your code in the iPython notebook you submit, to assist with marking. The amount each question is worth is explicitly given. \n",
    "\n",
    "You will be marked not only on the correctness of your methods, but also the quality and efficency of your code: in particular, you should be careful to use Python built-in functions and operators when appropriate and pick descriptive variable names that adhere to <a href=\"https://www.python.org/dev/peps/pep-0008/\">Python style requirements</a>. If you think it might be unclear what you are doing, you should comment your code to help the marker make sense of it.\n",
    "\n",
    "<b>Updates</b>: Any major changes to the assignment will be announced via Canvas. Minor changes and clarifications will be announced on the discussion board; we recommend you check it regularly.\n",
    "\n",
    "<b>Academic misconduct</b>: For most people, collaboration will form a natural part of the undertaking of this homework, and we encourge you to discuss it in general terms with other students. However, this ultimately is still an individual task, and so reuse of code or other instances of clear influence will be considered cheating. We will be checking submissions for originality and will invoke the University’s <a href=\"http://academichonesty.unimelb.edu.au/policy.html\">Academic Misconduct policy</a> where inappropriate levels of collusion or plagiarism are deemed to have taken place. In regards to the use of artificial intelligence tools in the context of academic integrity, please see the university's statement <a href=\"https://academicintegrity.unimelb.edu.au/plagiarism-and-collusion/artificial-intelligence-tools-and-technologies\">here</a>."
   ]
  },
  {
   "cell_type": "markdown",
   "metadata": {},
   "source": [
    "# Overview\n",
    "\n",
    "In this homework, you'll be creating an 'artificial intelligence' player for the classic Hangman word guessing game. You will need to implement several different automatic strategies based on character-level n-gram language models. Your objective is to create an automatic player which makes the fewest mistakes."
   ]
  },
  {
   "cell_type": "markdown",
   "metadata": {},
   "source": [
    "# The Hangman Game (7 marks)"
   ]
  },
  {
   "cell_type": "markdown",
   "metadata": {},
   "source": [
    "**Instructions**: The <a href=\"https://en.wikipedia.org/wiki/Hangman_(game)\">Hangman game</a> is a simple game whereby one person thinks of a word, which they keep secret from their opponent, who tries to guess the word one character at a time. The game ends when the opponent makes more than a fixed number of incorrect guesses, or they figure out the secret word before then (in which case they *win*). \n",
    "\n",
    "Here's a simple version of the game. **No implementation is needed.**"
   ]
  },
  {
   "cell_type": "code",
   "execution_count": 229,
   "metadata": {},
   "outputs": [],
   "source": [
    "def hangman(secret_word, guesser, max_mistakes=8, verbose=True, **guesser_args):\n",
    "    \"\"\"\n",
    "        This function plays the hangman game with the provided guesser and returns the number of incorrect guesses. \n",
    "        \n",
    "        secret_word: a string of lower-case alphabetic characters, i.e., the answer to the game\n",
    "        guesser: a function which guesses the next character at each stage in the game\n",
    "            The function takes a:\n",
    "                mask: what is known of the word, as a string with _ denoting an unknown character\n",
    "                guessed: the set of characters which already been guessed in the game\n",
    "                guesser_args: additional (optional) keyword arguments, i.e., name=value\n",
    "        max_mistakes: limit on length of game, in terms of number of allowed mistakes\n",
    "        verbose: silent or verbose diagnostic prints\n",
    "        guesser_args: keyword arguments to pass directly to the guesser function\n",
    "    \"\"\"\n",
    "    secret_word = secret_word.lower()\n",
    "    mask = ['_'] * len(secret_word)\n",
    "    guessed = set()\n",
    "    if verbose:\n",
    "        print(\"Starting hangman game. Target is\", ' '.join(mask), 'length', len(secret_word))\n",
    "    \n",
    "    mistakes = 0\n",
    "    while mistakes < max_mistakes:\n",
    "        if verbose:\n",
    "            print(\"You have\", (max_mistakes-mistakes), \"attempts remaining.\")\n",
    "        guess = guesser(mask, guessed, **guesser_args)\n",
    "\n",
    "        if verbose:\n",
    "            print('Guess is', guess)\n",
    "        if guess in guessed:\n",
    "            if verbose:\n",
    "                print('Already guessed this before.')\n",
    "            mistakes += 1\n",
    "        else:\n",
    "            guessed.add(guess)\n",
    "            if guess in secret_word and len(guess) == 1:\n",
    "                for i, c in enumerate(secret_word):\n",
    "                    if c == guess:\n",
    "                        mask[i] = c\n",
    "                if verbose:\n",
    "                    print('Good guess:', ' '.join(mask))\n",
    "            else:\n",
    "                if len(guess) != 1:\n",
    "                    print('Please guess with only 1 character.')\n",
    "                if verbose:\n",
    "                    print('Sorry, try again.')\n",
    "                mistakes += 1\n",
    "                \n",
    "        if '_' not in mask:\n",
    "            if verbose:\n",
    "                print('Congratulations, you won.')\n",
    "            return mistakes\n",
    "        \n",
    "    if verbose:\n",
    "        print('Out of guesses. The word was', secret_word)    \n",
    "    return mistakes"
   ]
  },
  {
   "cell_type": "markdown",
   "metadata": {},
   "source": [
    "Here is a human guesser allowing interactive play."
   ]
  },
  {
   "cell_type": "code",
   "execution_count": 230,
   "metadata": {},
   "outputs": [],
   "source": [
    "def human(mask, guessed, **kwargs):\n",
    "    \"\"\"\n",
    "    This is a simple function for manual play.\n",
    "    \"\"\"\n",
    "    print('\\nEnter your guess:')\n",
    "    return input().lower().strip()"
   ]
  },
  {
   "cell_type": "markdown",
   "metadata": {},
   "source": [
    "If you want to play hangman interactively, please set `interactive` to `True`. When submitting your solution, set to `False` so we can automatically run the whole notebook using `Run All`."
   ]
  },
  {
   "cell_type": "code",
   "execution_count": 231,
   "metadata": {},
   "outputs": [],
   "source": [
    "interactive = False"
   ]
  },
  {
   "cell_type": "markdown",
   "metadata": {},
   "source": [
    "<b>For your testing:</b>\n",
    "\n",
    "You can play the game interactively using the following command:"
   ]
  },
  {
   "cell_type": "code",
   "execution_count": 232,
   "metadata": {},
   "outputs": [],
   "source": [
    "if interactive:\n",
    "    hangman('whatever', human, 8, True)"
   ]
  },
  {
   "cell_type": "markdown",
   "metadata": {
    "collapsed": true,
    "jupyter": {
     "outputs_hidden": true
    }
   },
   "source": [
    "### Question 1 (1.0 mark)\n",
    "\n",
    "**Instructions**: We will use the words in NLTK's Brown corpus for training an artificial intelligence guessing algorithm, and for evaluating the quality of the algorithm.\n",
    "\n",
    "Your first task is to compute the number of **unique word types** occurring in the Brown corpus, using `nltk.corpus.brown` and the `words` method, and select only words that are **entirely comprised of alphabetic characters**. You should also **lowercase the words**. Finally, randomly shuffle (`numpy.random.shuffle`) this collection of word types, and split them into disjoint training and testing sets. The test set should contain 1000 word types, and the rest should be in the  training set. Note that we are intentionally making the hangman game hard, as the AI will need to cope with test words that it has not seen before, hence it will need to learn generalisable patterns of characters to make reasonable predictions.\n",
    "\n",
    "**Task**: Collect all unique word types from the Brown corpus, and produce `training_set` and `test_set`, 2 lists that contain 2 disjointed sets of words. Both `training_set` and `test_set` should be a python `list` (as initialised in the code). `test_set` must contain exactly 1000 word types.\n",
    "\n",
    "**Check**: Use the assertion statements in <b>\"For your testing\"</b> below for the expected output."
   ]
  },
  {
   "cell_type": "code",
   "execution_count": 233,
   "metadata": {},
   "outputs": [
    {
     "name": "stderr",
     "output_type": "stream",
     "text": [
      "[nltk_data] Downloading package brown to /Users/clarec/nltk_data...\n",
      "[nltk_data]   Package brown is already up-to-date!\n"
     ]
    },
    {
     "name": "stdout",
     "output_type": "stream",
     "text": [
      "Number of word types in test = 1000\n",
      "Number of word types in train = 39234\n"
     ]
    }
   ],
   "source": [
    "import nltk\n",
    "from nltk.corpus import brown\n",
    "import numpy as np\n",
    "\n",
    "nltk.download('brown')\n",
    "np.random.seed(1)\n",
    "\n",
    "# training_set stores the rest word types for training\n",
    "training_set = []\n",
    "# test_set stores 1000 word types for testing\n",
    "test_set = []\n",
    "\n",
    "\n",
    "###\n",
    "# Your answer BEGINS HERE\n",
    "###\n",
    "unique_words = list(set([x.lower() for x in brown.words() if x.isalpha()]))\n",
    "np.random.shuffle(unique_words)\n",
    "\n",
    "test_set = unique_words[:1000]\n",
    "training_set = unique_words[1000:]\n",
    "###\n",
    "# Your answer ENDS HERE\n",
    "###\n",
    "\n",
    "print(\"Number of word types in test =\", len(test_set))\n",
    "print(\"Number of word types in train =\", len(training_set))"
   ]
  },
  {
   "cell_type": "markdown",
   "metadata": {},
   "source": [
    "<b>For your testing:</b>"
   ]
  },
  {
   "cell_type": "code",
   "execution_count": 234,
   "metadata": {},
   "outputs": [],
   "source": [
    "assert(len(training_set) > 35000 and len(training_set) < 45000)\n",
    "assert(len(test_set) == 1000)"
   ]
  },
  {
   "cell_type": "markdown",
   "metadata": {},
   "source": [
    "**Play the game**:\n",
    "\n",
    "Let's see how good you are at this game! Try to guess a random word from the test set. It is surprisingly difficult (and addictive)! Don't forget to set `interactive = True`."
   ]
  },
  {
   "cell_type": "code",
   "execution_count": 235,
   "metadata": {},
   "outputs": [],
   "source": [
    "#play hangman using random words from test set\n",
    "if interactive:\n",
    "    hangman(np.random.choice(test_set), human, 8, True)"
   ]
  },
  {
   "cell_type": "markdown",
   "metadata": {},
   "source": [
    "### Question 2 (1.0 mark)\n",
    "\n",
    "**Instructions**: To set a baseline, your first AI attempt will be a trivial **random method**. For this you should implement a guessing method, similar to the `human` method above, i.e., using the same input arguments and returning a character. Your method should randomly choose a character from the range `a ... z` after excluding the characters that have already been guessed in the current game (all subsequent AI approaches should also exclude previous guesses).\n",
    "\n",
    "To help you measure the performance of this (and later) guesser, a `test_guesser` method that takes a guesser and measures the average number of incorrect guesses made over all the words in the `test` is provided to you. \n",
    "\n",
    "**Task**: Complete the `random_guesser` method. It should return a random character from the English alphabets.\n",
    "\n",
    "**Check**: Use the assertion statements in <b>\"For your testing\"</b> below for the expected output."
   ]
  },
  {
   "cell_type": "code",
   "execution_count": 236,
   "metadata": {},
   "outputs": [],
   "source": [
    "def test_guesser(guesser, test):\n",
    "    \"\"\"\n",
    "        This function takes a guesser and measures the average number of incorrect guesses made over all the words in the test_set. \n",
    "    \"\"\"\n",
    "    total = 0\n",
    "    for word in test:\n",
    "        total += hangman(word, guesser, 26, False)\n",
    "    return total / float(len(test))"
   ]
  },
  {
   "cell_type": "code",
   "execution_count": 237,
   "metadata": {},
   "outputs": [
    {
     "name": "stdout",
     "output_type": "stream",
     "text": [
      "Guessing word = prettyman\n",
      "Number of mistakes made by the random guesser = 18\n",
      "\n",
      "Testing the random guesser using every word in test set\n",
      "Average number of incorrect guesses:  16.737\n"
     ]
    }
   ],
   "source": [
    "import string\n",
    "\n",
    "def random_guesser(mask, guessed, **kwargs):\n",
    "    \n",
    "    ###\n",
    "    # Your answer BEGINS HERE\n",
    "    ###\n",
    "    lower = set(string.ascii_lowercase)  \n",
    "    unguessed = list(lower - guessed)\n",
    "    \n",
    "    return np.random.choice(unguessed)\n",
    "    ###\n",
    "    # Your answer ENDS HERE\n",
    "    ###\n",
    "\n",
    "random_word = np.random.choice(test_set)\n",
    "print(\"Guessing word =\", random_word)\n",
    "print(\"Number of mistakes made by the random guesser =\", hangman(random_word, random_guesser, 26, False))\n",
    "\n",
    "result = test_guesser(random_guesser, test_set)\n",
    "print(\"\\nTesting the random guesser using every word in test set\")\n",
    "print(\"Average number of incorrect guesses: \", result)"
   ]
  },
  {
   "cell_type": "markdown",
   "metadata": {},
   "source": [
    "<b>For your testing:</b>"
   ]
  },
  {
   "cell_type": "code",
   "execution_count": 238,
   "metadata": {},
   "outputs": [],
   "source": [
    "assert(result > 10 and result < 20)"
   ]
  },
  {
   "cell_type": "markdown",
   "metadata": {},
   "source": [
    "### Question 3 (1.0 mark)\n",
    "\n",
    "**Instructions:** As your first real AI, you should train a **unigram language model** over the training set. This requires you to find the frequencies of characters over all training words. Using this model, you should write a guesser that returns the character with the highest probability. Remember to exclude already guessed characters. \n",
    "\n",
    "**Task**: Collect the frequencies of characters and store them in `unigram_counts` (use the first answer space). Complete the `unigram_guesser` method (use the second answer space). Note that it takes `unigram_counts` as an additional argument.\n",
    "\n",
    "**Check**: Use the assertion statements in <b>\"For your testing\"</b> below for the expected output."
   ]
  },
  {
   "cell_type": "code",
   "execution_count": 239,
   "metadata": {},
   "outputs": [
    {
     "name": "stdout",
     "output_type": "stream",
     "text": [
      "Testing the unigram guesser using every word in test set\n",
      "Average number of incorrect guesses:  10.133\n"
     ]
    }
   ],
   "source": [
    "unigram_counts = None\n",
    "\n",
    "###\n",
    "# Your answer BEGINS HERE\n",
    "###\n",
    "from collections import defaultdict\n",
    "\n",
    "unigram_counts = defaultdict(int)\n",
    "for word in training_set:\n",
    "    for c in word:\n",
    "        unigram_counts[c] += 1\n",
    "\n",
    "###\n",
    "# Your answer ENDS HERE\n",
    "###\n",
    "\n",
    "def unigram_guesser(mask, guessed, unigram_counts=unigram_counts):\n",
    "\n",
    "    ###\n",
    "    # Your answer BEGINS HERE\n",
    "    ###\n",
    "    \n",
    "    # Find the un-guessed character with the highest frequency\n",
    "    \n",
    "    sorted_counts = {k: v for k, v in sorted(unigram_counts.items(), key=lambda item: item[1])}\n",
    "    best_guess = None\n",
    "    for character, freq in sorted_counts.items():\n",
    "        if character not in guessed:\n",
    "            best_guess = character\n",
    "    \n",
    "    return best_guess\n",
    "    ###\n",
    "    # Your answer ENDS HERE\n",
    "    ###\n",
    "\n",
    "result = test_guesser(unigram_guesser, test_set)\n",
    "print(\"Testing the unigram guesser using every word in test set\")\n",
    "print(\"Average number of incorrect guesses: \", result)"
   ]
  },
  {
   "cell_type": "markdown",
   "metadata": {},
   "source": [
    "<b>For your testing:</b>"
   ]
  },
  {
   "cell_type": "code",
   "execution_count": 240,
   "metadata": {},
   "outputs": [],
   "source": [
    "assert(result > 5 and result < 15)"
   ]
  },
  {
   "cell_type": "markdown",
   "metadata": {},
   "source": [
    "### Question 4 (1.0 mark)\n",
    "\n",
    "**Instructions:** The length of the secret word is an important clue that we might exploit. Different lengths tend to have different distributions over characters, e.g., short words are less likely to have suffixes or prefixes. You should incorporate this idea by conditioning the unigram model on the length of the secret word, i.e.,  having a **different unigram model for each length**. You will need to be a little careful at test time, to be robust to the situation that you encounter a word length that you didn't see in training. In such a case, your method should behave like the previous `unigram_guesser` in Question 3 (i.e., it guesses characters based on unigram frequencies, unconditioned by the word length).\n",
    "\n",
    "**Task**: Collect the frequencies of characters conditioned on the word length and store them in `unigram_counts_by_length` (use the first answer space). Complete the `unigram_length_guesser` method (use the second answer space).\n",
    "\n",
    "**Check**: Use the assertion statements in <b>\"For your testing\"</b> below for the expected output."
   ]
  },
  {
   "cell_type": "code",
   "execution_count": 241,
   "metadata": {},
   "outputs": [
    {
     "name": "stdout",
     "output_type": "stream",
     "text": [
      "Testing the length-conditioned unigram guesser using every word in test set\n",
      "Average number of incorrect guesses:  10.159\n"
     ]
    }
   ],
   "source": [
    "unigram_counts_by_length = None\n",
    "\n",
    "###\n",
    "# Your answer BEGINS HERE\n",
    "###\n",
    "from collections import defaultdict\n",
    "\n",
    "unigram_counts_by_length = defaultdict(lambda: defaultdict(int))\n",
    "\n",
    "for word in training_set:\n",
    "    word_length = len(word)\n",
    "    for character in word:\n",
    "        unigram_counts_by_length[word_length][character] += 1\n",
    "\n",
    "###\n",
    "# Your answer ENDS HERE\n",
    "###\n",
    "\n",
    "def unigram_length_guesser(mask, guessed, unigram_counts_by_length=unigram_counts_by_length, unigram_counts=unigram_counts):\n",
    "    ###\n",
    "    # Your answer BEGINS HERE\n",
    "    ###\n",
    "    word_length = len(mask)\n",
    "    best_guess = None\n",
    "    highest_freq = -1\n",
    "    if unigram_counts_by_length[word_length] != dict() and \\\n",
    "        any(c not in guessed for c in unigram_counts_by_length[word_length]):\n",
    "        for character, freq in unigram_counts_by_length[word_length].items():\n",
    "            if character not in guessed and freq > highest_freq:\n",
    "                best_guess = character\n",
    "                highest_freq = freq\n",
    "    else:\n",
    "        best_guess = unigram_guesser(mask, guessed, unigram_counts=unigram_counts)\n",
    "                \n",
    "    return best_guess\n",
    "\n",
    "    ###\n",
    "    # Your answer ENDS HERE\n",
    "    ###\n",
    "\n",
    "result = test_guesser(unigram_length_guesser, test_set)\n",
    "print(\"Testing the length-conditioned unigram guesser using every word in test set\")\n",
    "print(\"Average number of incorrect guesses: \", result)"
   ]
  },
  {
   "cell_type": "markdown",
   "metadata": {},
   "source": [
    "<b>For your testing:</b>"
   ]
  },
  {
   "cell_type": "code",
   "execution_count": 242,
   "metadata": {},
   "outputs": [],
   "source": [
    "assert(result > 5 and result < 15)"
   ]
  },
  {
   "cell_type": "markdown",
   "metadata": {},
   "source": [
    "### Question 5 (1.0 mark)\n",
    "\n",
    "**Instructions:** Now for the next challenge, you'll build a **bigram language model** over characters. The order of characters is obviously important, yet this wasn't incorporated in any of the above models. Knowing that the word has the sequence `n _ s s` is a pretty strong clue that the missing character might be `e`. Similarly the distribution over characters that start or end a word are highly biased (e.g., toward common prefixes and suffixes, like *un-*, *-ed* and *-ly*).\n",
    "\n",
    "The task here is to develop a bigram language model over characters, and train it over the training words. Remember to be careful when handling the start of each word properly, e.g., by padding with a special starting symbol such as `$`. Do we also need a special ending symbol? That's for you to decide.\n",
    "\n",
    "Your bigram guesser should apply your language model to each blank position in the secret word by using its left context character. For example, in the partial word `e _ c _ b _ _` we know the left context for the first three blanks, but have no known left context for the last blank. In the case for the last blank, you should revert to using a unigram language model (since there's no context for us to use the bigram model). You should sum up the probability distribution (over all alphabets from <i>a</i> to <i>z</i>) for the 4 blanks, and select the alphabet with the highest probability that hasn't been guessed.\n",
    "\n",
    "**Note**:\n",
    "- When backing-off to the unigram language model, you **must use the vanilla unigram language model that you have built in Q3**. Do not use the length-based unigram language model, or any fancy variant, or you will lose marks.\n",
    "- You should build a **standard bigram language model**; i.e. do not do anything complicated like a bidirectional bigram language model.\n",
    "\n",
    "**Task**: Collect frequency counts that are necessary for building a bigram language model and store them in bigram_counts; feel free to add new objects if needed (use the first answer space). Complete the `bigram_guesser` method (use the second answer space). Note that the method currently only has one additional argument (`bigram_counts`), but you are free to add additional arguments."
   ]
  },
  {
   "cell_type": "code",
   "execution_count": 243,
   "metadata": {},
   "outputs": [
    {
     "name": "stdout",
     "output_type": "stream",
     "text": [
      "Testing the bigram guesser using every word in test set\n",
      "Average number of incorrect guesses:  8.838\n"
     ]
    }
   ],
   "source": [
    "bigram_counts = None\n",
    "\n",
    "###\n",
    "# Your answer BEGINS HERE\n",
    "###\n",
    "bigram_counts = defaultdict(lambda: defaultdict(int))\n",
    "\n",
    "for word in training_set:\n",
    "    padded_word = \"$\" + word  \n",
    "    for i in range(len(padded_word)):\n",
    "        if i < len(word):  \n",
    "            bigram_counts[padded_word[i]][word[i]] += 1\n",
    "\n",
    "###\n",
    "# Your answer ENDS HERE\n",
    "###\n",
    "    \n",
    "\n",
    "def bigram_guesser(mask, guessed, bigram_counts=bigram_counts): # add extra arguments if needed\n",
    "    ###\n",
    "    # Your answer BEGINS HERE\n",
    "    ###\n",
    "    probabilities = defaultdict(int)\n",
    "\n",
    "    for i, char in enumerate(mask):\n",
    "        if char == '_':\n",
    "            left_context = mask[i-1] if i > 0 else '$'\n",
    "            for alphabet in 'abcdefghijklmnopqrstuvwxyz':\n",
    "                if alphabet not in guessed:\n",
    "                    if left_context in bigram_counts and alphabet in bigram_counts[left_context]:\n",
    "                        probabilities[alphabet] += bigram_counts[left_context][alphabet]\n",
    "                    else:\n",
    "                        probabilities[alphabet] += unigram_counts[alphabet]\n",
    "\n",
    "    # print(probabilities)\n",
    "    if not probabilities:\n",
    "        # Fallback to random guess from unguessed letters\n",
    "        unguessed_letters = [l for l in 'abcdefghijklmnopqrstuvwxyz' if l not in guessed_letters]\n",
    "        return random.choice(unguessed_letters)\n",
    "    best_guess = max(probabilities, key=probabilities.get)\n",
    "    return best_guess\n",
    "\n",
    "    ###\n",
    "    # Your answer ENDS HERE\n",
    "    ###\n",
    "\n",
    "result = test_guesser(bigram_guesser, test_set)\n",
    "print(\"Testing the bigram guesser using every word in test set\")\n",
    "print(\"Average number of incorrect guesses: \", result)\n",
    "\n",
    "# bigram_prediction = bigram_guesser(\"_pp_e\", guessed=set([\"p\", \"e\"]))\n",
    "# print(f\"The next letter to guess (bi-gram) is: {bigram_prediction}\")"
   ]
  },
  {
   "cell_type": "markdown",
   "metadata": {},
   "source": [
    "### Question 6 (1.5 mark)\n",
    "\n",
    "**Instructions:** You should try to develop a more effective AI for hangman. Feel free to engage your creativity here! Possibilities include better conditioning on the length of the word, fancier smoothing methods, ngram models and bidirectional models (lecture 8). Have fun!\n",
    "\n",
    "You will be marked based on the performance of your AI model, using a pre-made training and test set (created using a secret seed). Let x be the average number of mistakes in the test set, you will score:\n",
    "* 1.5 mark if x < 7.6\n",
    "* 1.0 mark if 7.6 <= x < 8.0\n",
    "* 0.5 mark if 8.0 <= x < 8.5\n",
    "* 0.0 mark if x >= 8.5\n",
    "\n",
    "Note:\n",
    "* When testing your AI model's performance, you may want to consider trying different training/test splits (using different seeds) to have a better understanding of its _average_ performance, as there will be some variance to its performance depending on the training/test split.\n",
    "* Your code must run under 2 minutes on Codalab; program that runs longer than that will be terminated and you will score 0.\n",
    "\n",
    "**Task** Complete the `my_amazing_ai_guesser` method, which implements a better language model for hangman."
   ]
  },
  {
   "cell_type": "code",
   "execution_count": 244,
   "metadata": {},
   "outputs": [
    {
     "name": "stdout",
     "output_type": "stream",
     "text": [
      "Testing my amazing AI guesser using every word in test set\n",
      "Average number of incorrect guesses:  7.685323953713616\n"
     ]
    }
   ],
   "source": [
    "###\n",
    "# Your answer BEGINS HERE\n",
    "###\n",
    "from collections import defaultdict\n",
    "import random\n",
    "\n",
    "alphabet = 'abcdefghijklmnopqrstuvwxyz'\n",
    "k = 1\n",
    "\n",
    "class TrieNode:\n",
    "    def __init__(self):\n",
    "        self.children = {}\n",
    "        # Use a nested defaultdict to store frequencies by word length\n",
    "        self.freq = defaultdict(lambda: defaultdict(int))\n",
    "        # Probabilities also need to be stored by word length\n",
    "        self.prob = defaultdict(dict)\n",
    "\n",
    "\n",
    "class Trie:\n",
    "    def __init__(self):\n",
    "        self.root = TrieNode()\n",
    "    \n",
    "    def insert(self, word):\n",
    "        word_length = len(word) - 1\n",
    "        for start in range(len(word)):\n",
    "            node = self.root\n",
    "            for char in word[start:]:\n",
    "                if char not in node.children:\n",
    "                    node.children[char] = TrieNode()\n",
    "                node.freq[word_length][char] += 1\n",
    "                node = node.children[char]\n",
    "            \n",
    "\n",
    "    def find_node(self, prefix):\n",
    "        node = self.root\n",
    "        for i in range(len(prefix)): \n",
    "            char = prefix[i]\n",
    "            if char in node.children:\n",
    "                # print(\"<query>\", char, \": \", node.freq)\n",
    "                node = node.children[char]\n",
    "            else:\n",
    "                return {}  # Prefix not found\n",
    "        return node\n",
    "        \n",
    "    def find_one_letter_freq(self, prefix, word_length):\n",
    "        node = self.find_node(prefix)\n",
    "        if node:\n",
    "            return self.find_node(prefix).freq[word_length]\n",
    "        return {}\n",
    "    \n",
    "    def get_most_probable_letter(self, prefix, word_length):\n",
    "        freq = self.find_one_letter_freq(prefix, word_length)   \n",
    "        # print(freq) \n",
    "        sorted_freq = sorted(freq, key = freq.get, reverse=True)\n",
    "        # print(sorted_freq)\n",
    "        if len(sorted_freq) > 0:\n",
    "            return sorted_freq[0]\n",
    "        return \"\"\n",
    "    \n",
    "    def calculate_probabilities(self):\n",
    "        def calculate_node_probabilities(node):\n",
    "            for word_length in node.freq:\n",
    "                total_freq = sum(node.freq[word_length].values()) + k * 26  # Smoothing applied\n",
    "                for char in node.freq[word_length]:\n",
    "                    # Calculate smoothed probability\n",
    "                    node.prob[word_length][char] = (node.freq[word_length][char] + k) / total_freq\n",
    "            for child in node.children.values():\n",
    "                calculate_node_probabilities(child)\n",
    "        calculate_node_probabilities(self.root)\n",
    "\n",
    "        \n",
    "    def get_next_char_probability(self, prefix, next_char, word_length):\n",
    "        node = self.root\n",
    "        for char in prefix:\n",
    "            if char in node.children:\n",
    "                node = node.children[char]\n",
    "            else:\n",
    "                return k / (k * 26)\n",
    "        return node.prob[word_length].get(next_char, k / (k * 26))\n",
    "\n",
    "    def get_probability(self, prefix, word_length):\n",
    "        node = self.root\n",
    "        for char in prefix:\n",
    "            if char in node.children:\n",
    "                node = node.children[char]\n",
    "            else:\n",
    "                return {}\n",
    "        return node.prob[word_length]\n",
    "\n",
    "def calculate_unigram_probabilities(words):\n",
    "    \"\"\"Calculate unigram probabilities with smoothing, adjusted for each word length group.\"\"\"\n",
    "    counts = defaultdict(lambda: defaultdict(int))\n",
    "    total_by_length = defaultdict(int)  # Total counts per word length\n",
    "    for word in words:\n",
    "        word_length = len(word)\n",
    "        for letter in word:\n",
    "            counts[word_length][letter] += 1\n",
    "            total_by_length[word_length] += 1\n",
    "    # Apply smoothing for each word length group\n",
    "    for word_length in counts:\n",
    "        for letter in alphabet:  # Ensure all possible letters are considered\n",
    "            counts[word_length][letter] = (counts[word_length][letter] + k) / (total_by_length[word_length] + k * 26)\n",
    "    return counts\n",
    "\n",
    "def calculate_bigram_probabilities(words):\n",
    "    \"\"\"Calculate bigram probabilities with starting symbol and smoothing.\"\"\"\n",
    "    bigram_counts = defaultdict(lambda: defaultdict(int))\n",
    "    total_counts = defaultdict(int)\n",
    "    for word in words:\n",
    "        previous = '$'\n",
    "        for letter in word:\n",
    "            bigram_counts[previous][letter] += 1\n",
    "            total_counts[previous] += 1\n",
    "            previous = letter\n",
    "    # Apply smoothing\n",
    "    for previous in bigram_counts:\n",
    "        for letter in bigram_counts[previous]:\n",
    "            bigram_counts[previous][letter] = (bigram_counts[previous][letter] + k) / (total_counts[previous] + k*26)\n",
    "    return bigram_counts\n",
    "\n",
    "def build_ngram_model(words):\n",
    "    trie = Trie()\n",
    "    for word in words:\n",
    "        trie.insert(\"$\" + word) \n",
    "    trie.calculate_probabilities()\n",
    "    return trie\n",
    "\n",
    "def get_prefix_from_mask(mask):\n",
    "    ans = \"\"\n",
    "    for c in mask:\n",
    "        if c != \"_\":\n",
    "            ans += c\n",
    "        else:\n",
    "            break\n",
    "    return ans\n",
    "\n",
    "metrics = [0, 0, 0, 0]\n",
    "def my_amazing_ai_guesser(mask, guessed):\n",
    "    \"\"\"A guesser that uses a combination of bigram and unigram models.\"\"\"\n",
    "    # If this is the first guess, use the most common starting letter\n",
    "    sorted_unigram_counts = sorted(unigram_counts[len(mask)], key=unigram_counts[len(mask)].get, reverse=True)\n",
    "    # print(sorted_unigram_counts)\n",
    "    # if len(set(mask)) == 1: # haven't guessed a right letter\n",
    "    if not guessed:\n",
    "        for letter in sorted_unigram_counts:\n",
    "            # print(letter)\n",
    "            if letter not in guessed:\n",
    "                # print(\"Guessing start: \", letter)\n",
    "                return letter\n",
    "            else: \n",
    "                continue\n",
    "    \n",
    "    # print(mask, \": \", len(set(mask)) == 1, \"guessed: \", guessed)\n",
    "    # Calculate probabilities based on available ngrams\n",
    "    probabilities = defaultdict(float)\n",
    "    prev_empty = -1\n",
    "    word_length = len(mask) \n",
    "    # print(\"mask: \", mask)\n",
    "    for i, ch in enumerate(mask):\n",
    "        if ch == '_':\n",
    "            prefix = \"$\" if i == 0 else \"\" + \"\".join(mask[prev_empty+1:i]) \n",
    "            \n",
    "            prev_empty = i\n",
    "            # print(\"prefix: \", prefix)\n",
    "            # print(prefix)\n",
    "            # ngram_prob = ngram_model.find_one_letter_prob(prefix)\n",
    "            # for letter in ngram_prob:\n",
    "            #     if letter not in guessed:\n",
    "            #         metrics[0] += 1\n",
    "            #         probabilities[letter] += ngram_prob[letter] \n",
    "\n",
    "            previous = mask[i-1] if i > 0 else '$'\n",
    "            for letter in alphabet:\n",
    "                if letter not in guessed:\n",
    "                    probabilities[letter] += ngram_model.get_next_char_probability(prefix, letter, word_length) * 9\n",
    "                    metrics[0] += 1\n",
    "                    \n",
    "                    if previous in bigram_counts and letter in bigram_counts[previous]:\n",
    "                        probabilities[letter] += bigram_counts[previous][letter] + 1\n",
    "                        metrics[1] += 1\n",
    "                    \n",
    "                    \n",
    "                        # prediction = predict_next_letter(model, mask, \"\".join(guessed), verbose=0)\n",
    "                        # next_letter = get_most_probable_letter(prediction, \"\".join(guessed))\n",
    "                        # return next_letter\n",
    "                        # Fallback to unigram probabilities\n",
    "                    # else:\n",
    "                    probabilities[letter] += unigram_counts[len(mask)][letter] * 1\n",
    "                    metrics[2] += 1\n",
    "            \n",
    "    # if not probabilities:\n",
    "    #     # Fallback to random guess if no probabilities are calculated\n",
    "    #     metrics[3] += 1\n",
    "    #     letter = random.choice([ch for ch in alphabet if ch not in guessed])\n",
    "    #     # print(\"Guessing randomly: \", letter)\n",
    "    #     return letter\n",
    "    \n",
    "    # Pick the letter with the highest probability\n",
    "    letter = max(probabilities, key=probabilities.get)\n",
    "    # print(\"Guessing: \", letter)\n",
    "    return letter\n",
    "\n",
    "# Assume `training_set` is a list of words used for training the models\n",
    "unigram_counts = calculate_unigram_probabilities(training_set)\n",
    "bigram_counts = calculate_bigram_probabilities(training_set)\n",
    "ngram_model = build_ngram_model(training_set)\n",
    "ngram_counts = ngram_model.calculate_probabilities()\n",
    "###\n",
    "# Your answer ENDS HERE\n",
    "###\n",
    "\n",
    "# small_test_set = [\"hello\"]\n",
    "# `test_guesser` needs to be defined to test the guesser function\n",
    "result = test_guesser(my_amazing_ai_guesser, training_set)\n",
    "print(\"Testing my amazing AI guesser using every word in test set\")\n",
    "print(\"Average number of incorrect guesses: \", result)\n"
   ]
  },
  {
   "cell_type": "code",
   "execution_count": 245,
   "metadata": {},
   "outputs": [
    {
     "name": "stdout",
     "output_type": "stream",
     "text": [
      "{'a': 0.17757009345794392, 'r': 0.11214953271028037, 'e': 0.09345794392523364, 'l': 0.08411214953271028, 'n': 0.08411214953271028, 's': 0.056074766355140186, 'd': 0.04672897196261682, 'i': 0.04672897196261682, 'm': 0.028037383177570093, 'u': 0.028037383177570093, 'w': 0.028037383177570093, 'f': 0.028037383177570093, 'y': 0.018691588785046728, 'g': 0.018691588785046728, 'c': 0.018691588785046728, 't': 0.018691588785046728, 'v': 0.018691588785046728, 'x': 0.018691588785046728}\n",
      "{'r': 0.18672199170124482, 's': 0.14927879865639201, 'd': 0.14522821576763487, 'n': 0.12052953961667655, 'l': 0.06181255351379833, 'a': 0.05153790423499967, 't': 0.04514918000395179, 'c': 0.03741026147665152, 'm': 0.030725153131792134, 'e': 0.025489033787788974, 'p': 0.018738062306527036, 'x': 0.01794770466969637, 'v': 0.016334057827833762, 'g': 0.013567806098926431, 'f': 0.013073832575907265, 'i': 0.012810380030297042, 'y': 0.01093328064282421, 'w': 0.009122044391753936, 'o': 0.007475465981690048, 'b': 0.006454587367450438, 'u': 0.006322861094645327, 'h': 0.004281103866166107, 'q': 0.00335901995653033, 'k': 0.0026345254561022198, 'z': 0.0019758940920766646, 'j': 0.0010867417506421656}\n",
      "{'e': 0.11044520547945205, 's': 0.09216357775987107, 'a': 0.09211321514907332, 'r': 0.06884568896051571, 'o': 0.06657937147461725, 'l': 0.06038477034649476, 'i': 0.058168815471394034, 't': 0.054844883158742946, 'n': 0.051974214343271555, 'd': 0.03862812248186946, 'c': 0.03500201450443191, 'u': 0.034045124899274776, 'h': 0.029814665592264304, 'm': 0.02830378726833199, 'y': 0.027296535052377117, 'p': 0.02628928283642224, 'b': 0.025282030620467365, 'g': 0.023015713134568894, 'k': 0.019087429492344883, 'f': 0.017475825946817083, 'w': 0.014957695406929896, 'v': 0.012036663980660757, 'z': 0.004381547139403707, 'j': 0.003978646253021757, 'x': 0.0033239323126510877, 'q': 0.0015612409347300564}\n"
     ]
    }
   ],
   "source": [
    "prefix = \"he\"\n",
    "ngram_prob = ngram_model.get_probability(prefix, 5)\n",
    "print({k: v for k, v in sorted(ngram_prob.items(), key=lambda item: item[1], reverse=True)})\n",
    "                    \n",
    "print({k: v for k, v in sorted(bigram_counts[\"e\"].items(), key=lambda item: item[1], reverse=True)})\n",
    "print({k: v for k, v in sorted(unigram_counts[5].items(), key=lambda item: item[1], reverse=True)})"
   ]
  },
  {
   "cell_type": "code",
   "execution_count": 246,
   "metadata": {},
   "outputs": [
    {
     "name": "stdout",
     "output_type": "stream",
     "text": [
      "[37494880, 17375140, 37494880, 0]\n",
      "0.40594295018995313\n"
     ]
    }
   ],
   "source": [
    "print(metrics)\n",
    "print(metrics[0] / sum(metrics))"
   ]
  },
  {
   "cell_type": "code",
   "execution_count": 247,
   "metadata": {},
   "outputs": [
    {
     "data": {
      "image/png": "[encoded data removed]",
      "text/plain": [
       "<Figure size 1000x600 with 1 Axes>"
      ]
     },
     "metadata": {},
     "output_type": "display_data"
    },
    {
     "name": "stdout",
     "output_type": "stream",
     "text": [
      "Average performance: 7.692328403960068\n"
     ]
    }
   ],
   "source": [
    "\n",
    "import matplotlib.pyplot as plt\n",
    "from sklearn.model_selection import train_test_split\n",
    "import numpy as np\n",
    "# Seeds for different splits\n",
    "seeds = [0, 5, 10, 100, 200, 1000]\n",
    "performances = []\n",
    "\n",
    "for seed in seeds:\n",
    "    # Splitting the dataset into training and testing sets\n",
    "    train_set, test_set = train_test_split(unique_words, test_size=0.2, random_state=seed)\n",
    "    \n",
    "    # Evaluating the guesser's performance on this split\n",
    "    performance = test_guesser(my_amazing_ai_guesser, test_set)\n",
    "    performances.append(performance)\n",
    "\n",
    "\n",
    "# Plotting overall performance across different seeds\n",
    "plt.figure(figsize=(10, 6))\n",
    "plt.bar(['Seed {}'.format(seed) for seed in seeds], performances)\n",
    "plt.xlabel('Seed')\n",
    "plt.ylabel('Performance')\n",
    "plt.title('Performance Across Different Seeds')\n",
    "plt.show()\n",
    "\n",
    "# Printing average performance\n",
    "print(\"Average performance:\", np.mean(performances))"
   ]
  },
  {
   "cell_type": "code",
   "execution_count": 248,
   "metadata": {},
   "outputs": [
    {
     "data": {
      "text/plain": [
       "7.692328403960068"
      ]
     },
     "execution_count": 248,
     "metadata": {},
     "output_type": "execute_result"
    }
   ],
   "source": [
    "np.mean(performances)"
   ]
  },
  {
   "cell_type": "markdown",
   "metadata": {},
   "source": [
    "### Question 7 (0.5 mark)\n",
    "\n",
    "**Instructions:** Explain your approach and discuss your result below. Please keep your explanation to a short paragraph."
   ]
  },
  {
   "cell_type": "markdown",
   "metadata": {},
   "source": [
    "##### Your answer BEGINS HERE\n",
    "\n",
    "- 2-gram 的命中率不足50%，所以要另外找到一个方法fall back\n",
    "\n",
    "\n",
    "##### Your answer ENDS HERE"
   ]
  },
  {
   "cell_type": "code",
   "execution_count": null,
   "metadata": {},
   "outputs": [],
   "source": []
  }
 ],
 "metadata": {
  "anaconda-cloud": {},
  "kernelspec": {
   "display_name": "Python 3 (ipykernel)",
   "language": "python",
   "name": "python3"
  },
  "language_info": {
   "codemirror_mode": {
    "name": "ipython",
    "version": 3
   },
   "file_extension": ".py",
   "mimetype": "text/x-python",
   "name": "python",
   "nbconvert_exporter": "python",
   "pygments_lexer": "ipython3",
   "version": "3.8.19"
  }
 },
 "nbformat": 4,
 "nbformat_minor": 4
}
