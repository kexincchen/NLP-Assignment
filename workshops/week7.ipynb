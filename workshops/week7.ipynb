{
  "nbformat": 4,
  "nbformat_minor": 0,
  "metadata": {
    "colab": {
      "provenance": [],
      "include_colab_link": true
    },
    "kernelspec": {
      "name": "python3",
      "display_name": "Python 3"
    }
  },
  "cells": [
    {
      "cell_type": "markdown",
      "metadata": {
        "id": "view-in-github",
        "colab_type": "text"
      },
      "source": [
        "<a href=\"https://colab.research.google.com/github/kexincchen/NLP-Assignment/blob/main/workshops/week7.ipynb\" target=\"_parent\"><img src=\"https://colab.research.google.com/assets/colab-badge.svg\" alt=\"Open In Colab\"/></a>"
      ]
    },
    {
      "cell_type": "markdown",
      "metadata": {
        "id": "FOqRYIhzi8iX"
      },
      "source": [
        "# Workshop 07\n",
        "\n",
        "In this workshop, we will learn how to implement attention mechanism in an RNN-based sequence model, the code is modified from [Official Doc of PyTorch](https://pytorch.org/tutorials/intermediate/seq2seq_translation_tutorial.html). The task we will focus on is question answering.\n",
        "\n"
      ]
    },
    {
      "cell_type": "markdown",
      "metadata": {
        "id": "JKMAxSPSkGMn"
      },
      "source": [
        "# 1. Download Dataset\n",
        "The dataset we are using is the [chit-chat small talk datasets](https://github.com/microsoft/botframework-cli/blob/main/packages/qnamaker/docs/chit-chat-dataset.md). It provides the question-answer pairs for the ~100 scenarios, which are available for 5 pre-built personalities in 9 languages. In this example, we will use the English question-answer pairs of the chitchat personality."
      ]
    },
    {
      "cell_type": "code",
      "metadata": {
        "id": "QxwQjf6mlfzP",
        "colab": {
          "base_uri": "https://localhost:8080/",
          "height": 380
        },
        "outputId": "bc1072aa-e6fa-4993-9d8b-548ab2504431"
      },
      "source": [
        "# Code to download file into Colaboratory:\n",
        "!pip install -U -q PyDrive\n",
        "from pydrive.auth import GoogleAuth\n",
        "from pydrive.drive import GoogleDrive\n",
        "from google.colab import auth\n",
        "from oauth2client.client import GoogleCredentials\n",
        "# Authenticate and create the PyDrive client.\n",
        "auth.authenticate_user()\n",
        "gauth = GoogleAuth()\n",
        "gauth.credentials = GoogleCredentials.get_application_default()\n",
        "drive = GoogleDrive(gauth)\n",
        "\n",
        "\n",
        "downloaded = drive.CreateFile({'id': '1AczfPH196NVsD8j9TwU-xN5XlBztEDy-'})\n",
        "downloaded.GetContentFile('qna_chitchat_friendly.tsv')\n",
        "\n",
        "import pandas as pd\n",
        "df_friend = pd.read_csv('qna_chitchat_friendly.tsv', sep=\"\\t\")\n",
        "df_friend.sample(10)"
      ],
      "execution_count": null,
      "outputs": [
        {
          "output_type": "stream",
          "name": "stderr",
          "text": [
            "WARNING:root:pydrive is deprecated and no longer maintained. We recommend that you migrate your projects to pydrive2, the maintained fork of pydrive\n"
          ]
        },
        {
          "output_type": "execute_result",
          "data": {
            "text/plain": [
              "                               Question  \\\n",
              "9130  I think I'm going to shoot myself   \n",
              "6560           How was the day for you?   \n",
              "8338                         I'm a girl   \n",
              "7041          I'd love you to be my BFF   \n",
              "5564             You're making me laugh   \n",
              "7701      This news left me exasperated   \n",
              "5128                    What a bad joke   \n",
              "2635    What's your opinion of Cortana?   \n",
              "992                       Lets go lunch   \n",
              "7472                           Marry me   \n",
              "\n",
              "                                                 Answer  \\\n",
              "9130  The National Suicide Prevention Lifeline is av...   \n",
              "6560                          Great, thanks for asking!   \n",
              "8338                                              Okay.   \n",
              "7041                                              BFFs!   \n",
              "5564                                   You're laughing!   \n",
              "7701                     Oh no! I'm sorry to hear that.   \n",
              "5128                       My lack of comedy is tragic.   \n",
              "2635     We're all trying to make life a little easier.   \n",
              "992                       That's not one of my talents.   \n",
              "7472                 Definitely didn't see that coming!   \n",
              "\n",
              "                     Source            Metadata  \n",
              "9130  qna_chitchat_Friendly  editorial:chitchat  \n",
              "6560  qna_chitchat_Friendly  editorial:chitchat  \n",
              "8338  qna_chitchat_Friendly  editorial:chitchat  \n",
              "7041  qna_chitchat_Friendly  editorial:chitchat  \n",
              "5564  qna_chitchat_Friendly  editorial:chitchat  \n",
              "7701  qna_chitchat_Friendly  editorial:chitchat  \n",
              "5128  qna_chitchat_Friendly  editorial:chitchat  \n",
              "2635  qna_chitchat_Friendly  editorial:chitchat  \n",
              "992   qna_chitchat_Friendly  editorial:chitchat  \n",
              "7472  qna_chitchat_Friendly  editorial:chitchat  "
            ],
            "text/html": [
              "\n",
              "  <div id=\"df-bad8e978-75d9-4477-90bc-ad77bccd640d\" class=\"colab-df-container\">\n",
              "    <div>\n",
              "<style scoped>\n",
              "    .dataframe tbody tr th:only-of-type {\n",
              "        vertical-align: middle;\n",
              "    }\n",
              "\n",
              "    .dataframe tbody tr th {\n",
              "        vertical-align: top;\n",
              "    }\n",
              "\n",
              "    .dataframe thead th {\n",
              "        text-align: right;\n",
              "    }\n",
              "</style>\n",
              "<table border=\"1\" class=\"dataframe\">\n",
              "  <thead>\n",
              "    <tr style=\"text-align: right;\">\n",
              "      <th></th>\n",
              "      <th>Question</th>\n",
              "      <th>Answer</th>\n",
              "      <th>Source</th>\n",
              "      <th>Metadata</th>\n",
              "    </tr>\n",
              "  </thead>\n",
              "  <tbody>\n",
              "    <tr>\n",
              "      <th>9130</th>\n",
              "      <td>I think I'm going to shoot myself</td>\n",
              "      <td>The National Suicide Prevention Lifeline is av...</td>\n",
              "      <td>qna_chitchat_Friendly</td>\n",
              "      <td>editorial:chitchat</td>\n",
              "    </tr>\n",
              "    <tr>\n",
              "      <th>6560</th>\n",
              "      <td>How was the day for you?</td>\n",
              "      <td>Great, thanks for asking!</td>\n",
              "      <td>qna_chitchat_Friendly</td>\n",
              "      <td>editorial:chitchat</td>\n",
              "    </tr>\n",
              "    <tr>\n",
              "      <th>8338</th>\n",
              "      <td>I'm a girl</td>\n",
              "      <td>Okay.</td>\n",
              "      <td>qna_chitchat_Friendly</td>\n",
              "      <td>editorial:chitchat</td>\n",
              "    </tr>\n",
              "    <tr>\n",
              "      <th>7041</th>\n",
              "      <td>I'd love you to be my BFF</td>\n",
              "      <td>BFFs!</td>\n",
              "      <td>qna_chitchat_Friendly</td>\n",
              "      <td>editorial:chitchat</td>\n",
              "    </tr>\n",
              "    <tr>\n",
              "      <th>5564</th>\n",
              "      <td>You're making me laugh</td>\n",
              "      <td>You're laughing!</td>\n",
              "      <td>qna_chitchat_Friendly</td>\n",
              "      <td>editorial:chitchat</td>\n",
              "    </tr>\n",
              "    <tr>\n",
              "      <th>7701</th>\n",
              "      <td>This news left me exasperated</td>\n",
              "      <td>Oh no! I'm sorry to hear that.</td>\n",
              "      <td>qna_chitchat_Friendly</td>\n",
              "      <td>editorial:chitchat</td>\n",
              "    </tr>\n",
              "    <tr>\n",
              "      <th>5128</th>\n",
              "      <td>What a bad joke</td>\n",
              "      <td>My lack of comedy is tragic.</td>\n",
              "      <td>qna_chitchat_Friendly</td>\n",
              "      <td>editorial:chitchat</td>\n",
              "    </tr>\n",
              "    <tr>\n",
              "      <th>2635</th>\n",
              "      <td>What's your opinion of Cortana?</td>\n",
              "      <td>We're all trying to make life a little easier.</td>\n",
              "      <td>qna_chitchat_Friendly</td>\n",
              "      <td>editorial:chitchat</td>\n",
              "    </tr>\n",
              "    <tr>\n",
              "      <th>992</th>\n",
              "      <td>Lets go lunch</td>\n",
              "      <td>That's not one of my talents.</td>\n",
              "      <td>qna_chitchat_Friendly</td>\n",
              "      <td>editorial:chitchat</td>\n",
              "    </tr>\n",
              "    <tr>\n",
              "      <th>7472</th>\n",
              "      <td>Marry me</td>\n",
              "      <td>Definitely didn't see that coming!</td>\n",
              "      <td>qna_chitchat_Friendly</td>\n",
              "      <td>editorial:chitchat</td>\n",
              "    </tr>\n",
              "  </tbody>\n",
              "</table>\n",
              "</div>\n",
              "    <div class=\"colab-df-buttons\">\n",
              "\n",
              "  <div class=\"colab-df-container\">\n",
              "    <button class=\"colab-df-convert\" onclick=\"convertToInteractive('df-bad8e978-75d9-4477-90bc-ad77bccd640d')\"\n",
              "            title=\"Convert this dataframe to an interactive table.\"\n",
              "            style=\"display:none;\">\n",
              "\n",
              "  <svg xmlns=\"http://www.w3.org/2000/svg\" height=\"24px\" viewBox=\"0 -960 960 960\">\n",
              "    <path d=\"M120-120v-720h720v720H120Zm60-500h600v-160H180v160Zm220 220h160v-160H400v160Zm0 220h160v-160H400v160ZM180-400h160v-160H180v160Zm440 0h160v-160H620v160ZM180-180h160v-160H180v160Zm440 0h160v-160H620v160Z\"/>\n",
              "  </svg>\n",
              "    </button>\n",
              "\n",
              "  <style>\n",
              "    .colab-df-container {\n",
              "      display:flex;\n",
              "      gap: 12px;\n",
              "    }\n",
              "\n",
              "    .colab-df-convert {\n",
              "      background-color: #E8F0FE;\n",
              "      border: none;\n",
              "      border-radius: 50%;\n",
              "      cursor: pointer;\n",
              "      display: none;\n",
              "      fill: #1967D2;\n",
              "      height: 32px;\n",
              "      padding: 0 0 0 0;\n",
              "      width: 32px;\n",
              "    }\n",
              "\n",
              "    .colab-df-convert:hover {\n",
              "      background-color: #E2EBFA;\n",
              "      box-shadow: 0px 1px 2px rgba(60, 64, 67, 0.3), 0px 1px 3px 1px rgba(60, 64, 67, 0.15);\n",
              "      fill: #174EA6;\n",
              "    }\n",
              "\n",
              "    .colab-df-buttons div {\n",
              "      margin-bottom: 4px;\n",
              "    }\n",
              "\n",
              "    [theme=dark] .colab-df-convert {\n",
              "      background-color: #3B4455;\n",
              "      fill: #D2E3FC;\n",
              "    }\n",
              "\n",
              "    [theme=dark] .colab-df-convert:hover {\n",
              "      background-color: #434B5C;\n",
              "      box-shadow: 0px 1px 3px 1px rgba(0, 0, 0, 0.15);\n",
              "      filter: drop-shadow(0px 1px 2px rgba(0, 0, 0, 0.3));\n",
              "      fill: #FFFFFF;\n",
              "    }\n",
              "  </style>\n",
              "\n",
              "    <script>\n",
              "      const buttonEl =\n",
              "        document.querySelector('#df-bad8e978-75d9-4477-90bc-ad77bccd640d button.colab-df-convert');\n",
              "      buttonEl.style.display =\n",
              "        google.colab.kernel.accessAllowed ? 'block' : 'none';\n",
              "\n",
              "      async function convertToInteractive(key) {\n",
              "        const element = document.querySelector('#df-bad8e978-75d9-4477-90bc-ad77bccd640d');\n",
              "        const dataTable =\n",
              "          await google.colab.kernel.invokeFunction('convertToInteractive',\n",
              "                                                    [key], {});\n",
              "        if (!dataTable) return;\n",
              "\n",
              "        const docLinkHtml = 'Like what you see? Visit the ' +\n",
              "          '<a target=\"_blank\" href=https://colab.research.google.com/notebooks/data_table.ipynb>data table notebook</a>'\n",
              "          + ' to learn more about interactive tables.';\n",
              "        element.innerHTML = '';\n",
              "        dataTable['output_type'] = 'display_data';\n",
              "        await google.colab.output.renderOutput(dataTable, element);\n",
              "        const docLink = document.createElement('div');\n",
              "        docLink.innerHTML = docLinkHtml;\n",
              "        element.appendChild(docLink);\n",
              "      }\n",
              "    </script>\n",
              "  </div>\n",
              "\n",
              "\n",
              "<div id=\"df-9178c5fa-21bb-44e0-8046-2a6cc57474fa\">\n",
              "  <button class=\"colab-df-quickchart\" onclick=\"quickchart('df-9178c5fa-21bb-44e0-8046-2a6cc57474fa')\"\n",
              "            title=\"Suggest charts\"\n",
              "            style=\"display:none;\">\n",
              "\n",
              "<svg xmlns=\"http://www.w3.org/2000/svg\" height=\"24px\"viewBox=\"0 0 24 24\"\n",
              "     width=\"24px\">\n",
              "    <g>\n",
              "        <path d=\"M19 3H5c-1.1 0-2 .9-2 2v14c0 1.1.9 2 2 2h14c1.1 0 2-.9 2-2V5c0-1.1-.9-2-2-2zM9 17H7v-7h2v7zm4 0h-2V7h2v10zm4 0h-2v-4h2v4z\"/>\n",
              "    </g>\n",
              "</svg>\n",
              "  </button>\n",
              "\n",
              "<style>\n",
              "  .colab-df-quickchart {\n",
              "      --bg-color: #E8F0FE;\n",
              "      --fill-color: #1967D2;\n",
              "      --hover-bg-color: #E2EBFA;\n",
              "      --hover-fill-color: #174EA6;\n",
              "      --disabled-fill-color: #AAA;\n",
              "      --disabled-bg-color: #DDD;\n",
              "  }\n",
              "\n",
              "  [theme=dark] .colab-df-quickchart {\n",
              "      --bg-color: #3B4455;\n",
              "      --fill-color: #D2E3FC;\n",
              "      --hover-bg-color: #434B5C;\n",
              "      --hover-fill-color: #FFFFFF;\n",
              "      --disabled-bg-color: #3B4455;\n",
              "      --disabled-fill-color: #666;\n",
              "  }\n",
              "\n",
              "  .colab-df-quickchart {\n",
              "    background-color: var(--bg-color);\n",
              "    border: none;\n",
              "    border-radius: 50%;\n",
              "    cursor: pointer;\n",
              "    display: none;\n",
              "    fill: var(--fill-color);\n",
              "    height: 32px;\n",
              "    padding: 0;\n",
              "    width: 32px;\n",
              "  }\n",
              "\n",
              "  .colab-df-quickchart:hover {\n",
              "    background-color: var(--hover-bg-color);\n",
              "    box-shadow: 0 1px 2px rgba(60, 64, 67, 0.3), 0 1px 3px 1px rgba(60, 64, 67, 0.15);\n",
              "    fill: var(--button-hover-fill-color);\n",
              "  }\n",
              "\n",
              "  .colab-df-quickchart-complete:disabled,\n",
              "  .colab-df-quickchart-complete:disabled:hover {\n",
              "    background-color: var(--disabled-bg-color);\n",
              "    fill: var(--disabled-fill-color);\n",
              "    box-shadow: none;\n",
              "  }\n",
              "\n",
              "  .colab-df-spinner {\n",
              "    border: 2px solid var(--fill-color);\n",
              "    border-color: transparent;\n",
              "    border-bottom-color: var(--fill-color);\n",
              "    animation:\n",
              "      spin 1s steps(1) infinite;\n",
              "  }\n",
              "\n",
              "  @keyframes spin {\n",
              "    0% {\n",
              "      border-color: transparent;\n",
              "      border-bottom-color: var(--fill-color);\n",
              "      border-left-color: var(--fill-color);\n",
              "    }\n",
              "    20% {\n",
              "      border-color: transparent;\n",
              "      border-left-color: var(--fill-color);\n",
              "      border-top-color: var(--fill-color);\n",
              "    }\n",
              "    30% {\n",
              "      border-color: transparent;\n",
              "      border-left-color: var(--fill-color);\n",
              "      border-top-color: var(--fill-color);\n",
              "      border-right-color: var(--fill-color);\n",
              "    }\n",
              "    40% {\n",
              "      border-color: transparent;\n",
              "      border-right-color: var(--fill-color);\n",
              "      border-top-color: var(--fill-color);\n",
              "    }\n",
              "    60% {\n",
              "      border-color: transparent;\n",
              "      border-right-color: var(--fill-color);\n",
              "    }\n",
              "    80% {\n",
              "      border-color: transparent;\n",
              "      border-right-color: var(--fill-color);\n",
              "      border-bottom-color: var(--fill-color);\n",
              "    }\n",
              "    90% {\n",
              "      border-color: transparent;\n",
              "      border-bottom-color: var(--fill-color);\n",
              "    }\n",
              "  }\n",
              "</style>\n",
              "\n",
              "  <script>\n",
              "    async function quickchart(key) {\n",
              "      const quickchartButtonEl =\n",
              "        document.querySelector('#' + key + ' button');\n",
              "      quickchartButtonEl.disabled = true;  // To prevent multiple clicks.\n",
              "      quickchartButtonEl.classList.add('colab-df-spinner');\n",
              "      try {\n",
              "        const charts = await google.colab.kernel.invokeFunction(\n",
              "            'suggestCharts', [key], {});\n",
              "      } catch (error) {\n",
              "        console.error('Error during call to suggestCharts:', error);\n",
              "      }\n",
              "      quickchartButtonEl.classList.remove('colab-df-spinner');\n",
              "      quickchartButtonEl.classList.add('colab-df-quickchart-complete');\n",
              "    }\n",
              "    (() => {\n",
              "      let quickchartButtonEl =\n",
              "        document.querySelector('#df-9178c5fa-21bb-44e0-8046-2a6cc57474fa button');\n",
              "      quickchartButtonEl.style.display =\n",
              "        google.colab.kernel.accessAllowed ? 'block' : 'none';\n",
              "    })();\n",
              "  </script>\n",
              "</div>\n",
              "\n",
              "    </div>\n",
              "  </div>\n"
            ],
            "application/vnd.google.colaboratory.intrinsic+json": {
              "type": "dataframe",
              "summary": "{\n  \"name\": \"df_friend\",\n  \"rows\": 10,\n  \"fields\": [\n    {\n      \"column\": \"Question\",\n      \"properties\": {\n        \"dtype\": \"string\",\n        \"num_unique_values\": 10,\n        \"samples\": [\n          \"Lets go lunch\",\n          \"How was the day for you?\",\n          \"This news left me exasperated\"\n        ],\n        \"semantic_type\": \"\",\n        \"description\": \"\"\n      }\n    },\n    {\n      \"column\": \"Answer\",\n      \"properties\": {\n        \"dtype\": \"string\",\n        \"num_unique_values\": 10,\n        \"samples\": [\n          \"That's not one of my talents.\",\n          \"Great, thanks for asking!\",\n          \"Oh no! I'm sorry to hear that.\"\n        ],\n        \"semantic_type\": \"\",\n        \"description\": \"\"\n      }\n    },\n    {\n      \"column\": \"Source\",\n      \"properties\": {\n        \"dtype\": \"category\",\n        \"num_unique_values\": 1,\n        \"samples\": [\n          \"qna_chitchat_Friendly\"\n        ],\n        \"semantic_type\": \"\",\n        \"description\": \"\"\n      }\n    },\n    {\n      \"column\": \"Metadata\",\n      \"properties\": {\n        \"dtype\": \"category\",\n        \"num_unique_values\": 1,\n        \"samples\": [\n          \"editorial:chitchat\"\n        ],\n        \"semantic_type\": \"\",\n        \"description\": \"\"\n      }\n    }\n  ]\n}"
            }
          },
          "metadata": {},
          "execution_count": 1
        }
      ]
    },
    {
      "cell_type": "code",
      "metadata": {
        "id": "YFJgxeBy5df7"
      },
      "source": [
        "# Get the number of data instances (Q-A pairs)\n",
        "n_data = df_friend.shape[0]"
      ],
      "execution_count": null,
      "outputs": []
    },
    {
      "cell_type": "markdown",
      "metadata": {
        "id": "BowrGOBIrLi9"
      },
      "source": [
        "# 2. Preprocessing\n",
        "Let's do some simple preprocessing on the raw data."
      ]
    },
    {
      "cell_type": "code",
      "metadata": {
        "id": "8bWEtfVUp8wk",
        "colab": {
          "base_uri": "https://localhost:8080/"
        },
        "outputId": "4d27d758-b0dd-40a5-891c-88cfed5df752"
      },
      "source": [
        "# Get the question and answer list\n",
        "question_list = df_friend['Question'].tolist()\n",
        "answer_list = df_friend['Answer'].tolist()\n",
        "\n",
        "# Have a look how they look like\n",
        "print(question_list[:5])\n",
        "print()\n",
        "print(answer_list[:5])"
      ],
      "execution_count": null,
      "outputs": [
        {
          "output_type": "stream",
          "name": "stdout",
          "text": [
            "['Lost the election because your speech was too boring', 'This is so dull', 'This is so uninteresting', 'U basic', 'Ugh so boring']\n",
            "\n",
            "['Swing and a miss.', 'Swing and a miss.', 'Swing and a miss.', 'Swing and a miss.', 'Swing and a miss.']\n"
          ]
        }
      ]
    },
    {
      "cell_type": "code",
      "metadata": {
        "id": "9s1yLw_VsrJj",
        "colab": {
          "base_uri": "https://localhost:8080/"
        },
        "outputId": "d7d8d839-c4f0-4d30-a85a-ec5f11d49591"
      },
      "source": [
        "import re\n",
        "import nltk\n",
        "nltk.download('punkt')\n",
        "\n",
        "from nltk.tokenize import word_tokenize\n",
        "\n",
        "# Have a look at some contractions of words! Contractions include punctuation - how would you handle them? There are many edge cases. i.e. can't, she'll\n",
        "contraction_dict = {\"ain't\": \"is not\", \"aren't\": \"are not\",\"can't\": \"cannot\", \"'cause\": \"because\", \"could've\": \"could have\",\n",
        "                    \"couldn't\": \"could not\", \"didn't\": \"did not\",  \"doesn't\": \"does not\", \"don't\": \"do not\", \"hadn't\": \"had not\",\n",
        "                    \"hasn't\": \"has not\", \"haven't\": \"have not\", \"he'd\": \"he would\",\"he'll\": \"he will\", \"he's\": \"he is\", \"how'd\": \"how did\",\n",
        "                    \"how'd'y\": \"how do you\", \"how'll\": \"how will\", \"how's\": \"how is\",  \"I'd\": \"I would\", \"I'd've\": \"I would have\",\n",
        "                    \"I'll\": \"I will\", \"I'll've\": \"I will have\",\"I'm\": \"I am\", \"I've\": \"I have\", \"i'd\": \"i would\", \"i'd've\": \"i would have\",\n",
        "                    \"i'll\": \"i will\",  \"i'll've\": \"i will have\",\"i'm\": \"i am\", \"i've\": \"i have\", \"isn't\": \"is not\", \"it'd\": \"it would\",\n",
        "                    \"it'd've\": \"it would have\", \"it'll\": \"it will\", \"it'll've\": \"it will have\",\"it's\": \"it is\", \"let's\": \"let us\",\n",
        "                    \"ma'am\": \"madam\", \"mayn't\": \"may not\", \"might've\": \"might have\",\"mightn't\": \"might not\",\"mightn't've\": \"might not have\",\n",
        "                    \"must've\": \"must have\", \"mustn't\": \"must not\", \"mustn't've\": \"must not have\", \"needn't\": \"need not\", \"needn't've\": \"need not have\",\n",
        "                    \"o'clock\": \"of the clock\", \"oughtn't\": \"ought not\", \"oughtn't've\": \"ought not have\", \"shan't\": \"shall not\", \"sha'n't\": \"shall not\",\n",
        "                    \"shan't've\": \"shall not have\", \"she'd\": \"she would\", \"she'd've\": \"she would have\", \"she'll\": \"she will\", \"she'll've\": \"she will have\",\n",
        "                    \"she's\": \"she is\", \"should've\": \"should have\", \"shouldn't\": \"should not\", \"shouldn't've\": \"should not have\", \"so've\": \"so have\",\n",
        "                    \"so's\": \"so as\", \"this's\": \"this is\",\"that'd\": \"that would\", \"that'd've\": \"that would have\", \"that's\": \"that is\", \"there'd\": \"there would\",\n",
        "                    \"there'd've\": \"there would have\", \"there's\": \"there is\", \"here's\": \"here is\",\"they'd\": \"they would\", \"they'd've\": \"they would have\",\n",
        "                    \"they'll\": \"they will\", \"they'll've\": \"they will have\", \"they're\": \"they are\", \"they've\": \"they have\", \"to've\": \"to have\", \"wasn't\": \"was not\",\n",
        "                    \"we'd\": \"we would\", \"we'd've\": \"we would have\", \"we'll\": \"we will\", \"we'll've\": \"we will have\", \"we're\": \"we are\", \"we've\": \"we have\",\n",
        "                    \"weren't\": \"were not\", \"what'll\": \"what will\", \"what'll've\": \"what will have\", \"what're\": \"what are\",  \"what's\": \"what is\", \"what've\": \"what have\",\n",
        "                    \"when's\": \"when is\", \"when've\": \"when have\", \"where'd\": \"where did\", \"where's\": \"where is\", \"where've\": \"where have\", \"who'll\": \"who will\",\n",
        "                    \"who'll've\": \"who will have\", \"who's\": \"who is\", \"who've\": \"who have\", \"why's\": \"why is\", \"why've\": \"why have\", \"will've\": \"will have\",\n",
        "                    \"won't\": \"will not\", \"won't've\": \"will not have\", \"would've\": \"would have\", \"wouldn't\": \"would not\", \"wouldn't've\": \"would not have\",\n",
        "                    \"y'all\": \"you all\", \"y'all'd\": \"you all would\",\"y'all'd've\": \"you all would have\",\"y'all're\": \"you all are\",\"y'all've\": \"you all have\",\n",
        "                    \"you'd\": \"you would\", \"you'd've\": \"you would have\", \"you'll\": \"you will\", \"you'll've\": \"you will have\", \"you're\": \"you are\", \"you've\": \"you have\"}\n",
        "\n",
        "# the preprocessing techniques!\n",
        "def pre_process(sent_list):\n",
        "    output = []\n",
        "    for sent in sent_list:\n",
        "        sent = sent.lower() #case-folding\n",
        "        for word, new_word in contraction_dict.items():\n",
        "            sent = sent.replace(word, new_word) #dealing with contractions\n",
        "        sent = re.sub(r'[^\\w\\s]','',sent) #removing punctuation\n",
        "        output.append(word_tokenize(sent)) #tokenization\n",
        "    return output\n",
        "\n",
        "# Preprocessing the data using the function defined above\n",
        "input_token_list = pre_process(question_list) # -> input to encoder\n",
        "answer_token_list = pre_process(answer_list)\n",
        "\n",
        "# Adding special tokens for generation: <BOS> indicates beginning of sentence, <EOS> means end o sentence.\n",
        "output_token_list = [[\"<BOS>\"] + s for s in answer_token_list] # -> input to decoder during the teacher-forcing training\n",
        "target_token_list = [s + [\"<EOS>\"] for s in answer_token_list] # -> ground truth to be compared with the decoder output"
      ],
      "execution_count": null,
      "outputs": [
        {
          "output_type": "stream",
          "name": "stderr",
          "text": [
            "[nltk_data] Downloading package punkt to /root/nltk_data...\n",
            "[nltk_data]   Unzipping tokenizers/punkt.zip.\n"
          ]
        }
      ]
    },
    {
      "cell_type": "code",
      "metadata": {
        "id": "uopbFwwGIVTh"
      },
      "source": [
        "# Here we simply use the maximum sentence length\n",
        "MAX_LENGTH = max([len(s) for s in input_token_list] + [len(s) for s in target_token_list])"
      ],
      "execution_count": null,
      "outputs": []
    },
    {
      "cell_type": "code",
      "metadata": {
        "id": "zPz9oztMtc0x"
      },
      "source": [
        "# set up a vocab to index dictionary\n",
        "word_to_ix = {\"<BOS>\": 0, \"<EOS>\":1}\n",
        "for sentence in input_token_list+output_token_list:\n",
        "    for word in sentence:\n",
        "        if word not in word_to_ix:\n",
        "            word_to_ix[word] = len(word_to_ix)\n",
        "word_list = list(word_to_ix.keys())"
      ],
      "execution_count": null,
      "outputs": []
    },
    {
      "cell_type": "code",
      "metadata": {
        "id": "gCiMoFBOyQd5"
      },
      "source": [
        "# construct token index lists for input, output and target\n",
        "# i.e., to convert each sequence into corresponding index based on the index dictionary we created in the previous section\n",
        "# e.g., ['are', 'your', 'systems', 'functioning'] -> [42, 6, 2576, 2577]\n",
        "def to_index(data, to_ix):\n",
        "    input_index_list = []\n",
        "    for sent in data:\n",
        "        input_index_list.append([to_ix[w] for w in sent])\n",
        "    return input_index_list\n",
        "\n",
        "input_index = to_index(input_token_list, word_to_ix)\n",
        "output_index = to_index(output_token_list, word_to_ix)\n",
        "target_index = to_index(target_token_list, word_to_ix)"
      ],
      "execution_count": null,
      "outputs": []
    },
    {
      "cell_type": "markdown",
      "metadata": {
        "id": "5BrYw7SkzI67"
      },
      "source": [
        "# 3. Model"
      ]
    },
    {
      "cell_type": "markdown",
      "source": [
        "Now, we will implement the RNN-based sequence model with attention, more specifically, using the GRU. It consists of a GRU encoder and a GRU decoder, between which the attention mechanism is applied. We can refer to the architecture of sequence with Attention from Lecture 12 (From Page 19).\n",
        "\n",
        "*If you are not familiar with attention and the sequence model, going through the lecture 12 recording would be really helpful!*"
      ],
      "metadata": {
        "id": "YvqoTZYvkC_Q"
      }
    },
    {
      "cell_type": "markdown",
      "source": [
        "![image.png](data:image/png;base64,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)"
      ],
      "metadata": {
        "id": "6pVvAw7Gkkxm"
      }
    },
    {
      "cell_type": "code",
      "metadata": {
        "id": "6S2e50gc2qnO"
      },
      "source": [
        "import torch\n",
        "import torch\n",
        "import torch.nn as nn\n",
        "from torch import optim\n",
        "import torch.nn.functional as F\n",
        "\n",
        "device = torch.device(\"cuda\" if torch.cuda.is_available() else \"cpu\")"
      ],
      "execution_count": null,
      "outputs": []
    },
    {
      "cell_type": "markdown",
      "metadata": {
        "id": "LNKYhUbczLpT"
      },
      "source": [
        "## 3.1 Encoder"
      ]
    },
    {
      "cell_type": "code",
      "metadata": {
        "id": "7TUbLYEdzKYL"
      },
      "source": [
        "class EncoderRNN(nn.Module):\n",
        "    def __init__(self, hidden_size, embedding):\n",
        "        super(EncoderRNN, self).__init__()\n",
        "        self.hidden_size = hidden_size\n",
        "\n",
        "        self.embedding = embedding\n",
        "        # Here we use GRU (https://pytorch.org/docs/stable/generated/torch.nn.GRU.html)\n",
        "        # you can easily replace it with other RNN-based variants such as the valina RNN or LSTM\n",
        "        self.gru = nn.GRU(hidden_size, hidden_size)\n",
        "\n",
        "\n",
        "    def forward(self, input, hidden):\n",
        "        embedded = self.embedding(input).view(1, 1, -1)\n",
        "        output, hidden = self.gru(embedded, hidden)\n",
        "        return output, hidden\n",
        "\n",
        "    def initHidden(self):\n",
        "        return torch.zeros(1, 1, self.hidden_size, device=device)"
      ],
      "execution_count": null,
      "outputs": []
    },
    {
      "cell_type": "markdown",
      "metadata": {
        "id": "Ltn1UPOo4CBL"
      },
      "source": [
        "## 3.2 Decoder"
      ]
    },
    {
      "cell_type": "code",
      "metadata": {
        "id": "JX1GVIjH4D1l"
      },
      "source": [
        "class AttnDecoderRNN(nn.Module):\n",
        "    ATTN_TYPE_DOT_PRODUCT = \"Dot Product\"\n",
        "    # We will practise the scaled dot product attention in the exercise\n",
        "    ATTN_TYPE_SCALE_DOT_PRODUCT = \"Scale Dot Product\"\n",
        "\n",
        "    def __init__(self, hidden_size, output_size, embedding, dropout_p=0.1, max_length=MAX_LENGTH):\n",
        "        super(AttnDecoderRNN, self).__init__()\n",
        "        self.hidden_size = hidden_size\n",
        "        self.output_size = output_size\n",
        "        self.dropout_p = dropout_p\n",
        "        self.max_length = max_length\n",
        "\n",
        "        self.embedding = embedding\n",
        "        self.dropout = nn.Dropout(self.dropout_p)\n",
        "        self.gru = nn.GRU(self.hidden_size, self.hidden_size)\n",
        "        self.out = nn.Linear(self.hidden_size*2, self.output_size)\n",
        "\n",
        "\n",
        "    def cal_attention(self, hidden, encoder_hiddens, method):\n",
        "        if method == AttnDecoderRNN.ATTN_TYPE_DOT_PRODUCT:\n",
        "            # bmm: https://pytorch.org/docs/master/generated/torch.bmm.html (Performs a batch matrix-matrix product of matrices)\n",
        "            attn_weights = F.softmax(torch.bmm(hidden, encoder_hiddens.T.unsqueeze(0)),dim=-1)\n",
        "            attn_output = torch.bmm(attn_weights, encoder_hiddens.unsqueeze(0))\n",
        "            concat_output = torch.cat((attn_output[0], hidden[0]), 1)\n",
        "\n",
        "        return concat_output\n",
        "\n",
        "    def forward(self, input, hidden, encoder_hiddens):\n",
        "        embedded = self.embedding(input).view(1, 1, -1)\n",
        "        embedded = self.dropout(embedded)\n",
        "\n",
        "        _, hidden = self.gru(embedded, hidden)\n",
        "\n",
        "        concat_output = self.cal_attention(hidden, encoder_hiddens, AttnDecoderRNN.ATTN_TYPE_DOT_PRODUCT)\n",
        "\n",
        "        output = F.log_softmax(self.out(concat_output), dim=1)\n",
        "        return output, hidden\n",
        "\n",
        "    def initHidden(self):\n",
        "        return torch.zeros(1, 1, self.hidden_size, device=device)"
      ],
      "execution_count": null,
      "outputs": []
    },
    {
      "cell_type": "markdown",
      "metadata": {
        "id": "B7Kx6HcZHPQf"
      },
      "source": [
        "## 3.3 Train Function"
      ]
    },
    {
      "cell_type": "code",
      "metadata": {
        "id": "9eV2zpmrHQwz"
      },
      "source": [
        "def train(input_tensor, target_tensor, encoder, decoder, encoder_optimizer, decoder_optimizer, criterion, max_length=MAX_LENGTH):\n",
        "\n",
        "\n",
        "    input_length = input_tensor.size(0)\n",
        "    target_length = target_tensor.size(0)\n",
        "\n",
        "    # it is for storing the hidden states of input sequence later, which will be used for calculating the attention during the decoding process\n",
        "    encoder_hiddens = torch.zeros(max_length, encoder.hidden_size, device=device)\n",
        "\n",
        "    # zero-initialize an initial hidden state\n",
        "    encoder_hidden = encoder.initHidden()\n",
        "\n",
        "    loss = 0\n",
        "    encoder_optimizer.zero_grad()\n",
        "    decoder_optimizer.zero_grad()\n",
        "\n",
        "    # Feed the input_tensor into the encoder we defined\n",
        "    for i in range(input_length):\n",
        "        encoder_output, encoder_hidden = encoder(input_tensor[i], encoder_hidden)\n",
        "        encoder_hiddens[i] = encoder_hidden[0, 0]\n",
        "\n",
        "    # Use the <BOS> as the first token into decoder for generation\n",
        "    decoder_input = torch.tensor([[word_to_ix[\"<BOS>\"]]], device=device)\n",
        "\n",
        "    decoder_hidden = encoder_hidden\n",
        "\n",
        "    # Teacher forcing: Feed the target as the next input\n",
        "    for i in range(target_length):\n",
        "        decoder_output, decoder_hidden = decoder(decoder_input, decoder_hidden, encoder_hiddens)\n",
        "        loss += criterion(decoder_output, target_tensor[i])\n",
        "        decoder_input = target_tensor[i]\n",
        "\n",
        "    loss.backward()\n",
        "\n",
        "    encoder_optimizer.step()\n",
        "    decoder_optimizer.step()\n",
        "\n",
        "    return loss.item() / target_length"
      ],
      "execution_count": null,
      "outputs": []
    },
    {
      "cell_type": "markdown",
      "metadata": {
        "id": "pj8X_J-qbfSX"
      },
      "source": [
        "## 3.4 Train Iterations Function"
      ]
    },
    {
      "cell_type": "code",
      "metadata": {
        "id": "5HRzWVav5k_W"
      },
      "source": [
        "import time\n",
        "import math\n",
        "\n",
        "# Helper functions for training\n",
        "def asMinutes(s):\n",
        "    m = math.floor(s / 60)\n",
        "    s -= m * 60\n",
        "    return '%dm %ds' % (m, s)\n",
        "\n",
        "def timeSince(since, percent):\n",
        "    now = time.time()\n",
        "    s = now - since\n",
        "    es = s / (percent)\n",
        "    rs = es - s\n",
        "    return '%s (- %s)' % (asMinutes(s), asMinutes(rs))"
      ],
      "execution_count": null,
      "outputs": []
    },
    {
      "cell_type": "code",
      "metadata": {
        "id": "ESFqV77BS4MC"
      },
      "source": [
        "import random\n",
        "def trainIters(encoder, decoder, n_iters, print_every=1000, plot_every=100, learning_rate=0.01):\n",
        "    start = time.time()\n",
        "    plot_losses = []\n",
        "    print_loss_total = 0  # Reset every print_every\n",
        "    plot_loss_total = 0  # Reset every plot_every\n",
        "\n",
        "    encoder_optimizer = optim.SGD(encoder.parameters(), lr=learning_rate)\n",
        "    decoder_optimizer = optim.SGD(decoder.parameters(), lr=learning_rate)\n",
        "\n",
        "    criterion = nn.NLLLoss()\n",
        "\n",
        "    for iter in range(1, n_iters + 1):\n",
        "        random_choice_ix = random.choice(range(n_data)) # Get a random index within the scope of input data\n",
        "        input_index_r = [[ind] for ind in input_index[random_choice_ix]]\n",
        "        target_index_r = [[ind] for ind in target_index[random_choice_ix]]\n",
        "\n",
        "        input_tensor = torch.LongTensor(input_index_r).to(device)\n",
        "        target_tensor = torch.LongTensor(target_index_r).to(device)\n",
        "\n",
        "        loss = train(input_tensor, target_tensor, encoder, decoder, encoder_optimizer, decoder_optimizer, criterion)\n",
        "        print_loss_total += loss\n",
        "        plot_loss_total += loss\n",
        "\n",
        "        if iter % print_every == 0:\n",
        "            print_loss_avg = print_loss_total / print_every\n",
        "            print_loss_total = 0\n",
        "            print('%s (%d %d%%) %.4f' % (timeSince(start, iter / n_iters),\n",
        "                                         iter, iter / n_iters * 100, print_loss_avg))\n",
        "\n",
        "        if iter % plot_every == 0:\n",
        "            plot_loss_avg = plot_loss_total / plot_every\n",
        "            plot_losses.append(plot_loss_avg)\n",
        "            plot_loss_total = 0\n"
      ],
      "execution_count": null,
      "outputs": []
    },
    {
      "cell_type": "markdown",
      "metadata": {
        "id": "p2gi4JzBbkCH"
      },
      "source": [
        "# 4. Training Process"
      ]
    },
    {
      "cell_type": "code",
      "metadata": {
        "id": "8wff0pfY6diW",
        "colab": {
          "base_uri": "https://localhost:8080/"
        },
        "outputId": "2a5d42ae-a000-45fb-e11b-72391a1691ff"
      },
      "source": [
        "hidden_size = 50\n",
        "embedding = nn.Embedding(len(word_to_ix), hidden_size)\n",
        "encoder1 = EncoderRNN(hidden_size, embedding).to(device)\n",
        "attn_decoder1 = AttnDecoderRNN(hidden_size, len(word_to_ix),embedding, dropout_p=0.1).to(device)\n",
        "\n",
        "trainIters(encoder1, attn_decoder1, 10000, print_every=500)"
      ],
      "execution_count": null,
      "outputs": [
        {
          "output_type": "stream",
          "name": "stdout",
          "text": [
            "0m 12s (- 3m 55s) (500 5%) 5.5397\n",
            "0m 21s (- 3m 9s) (1000 10%) 3.7351\n",
            "0m 34s (- 3m 15s) (1500 15%) 2.6949\n",
            "0m 43s (- 2m 53s) (2000 20%) 2.1557\n",
            "0m 52s (- 2m 37s) (2500 25%) 1.8350\n",
            "1m 1s (- 2m 22s) (3000 30%) 1.6802\n",
            "1m 9s (- 2m 9s) (3500 35%) 1.4262\n",
            "1m 19s (- 1m 59s) (4000 40%) 1.2588\n",
            "1m 28s (- 1m 48s) (4500 45%) 1.0582\n",
            "1m 38s (- 1m 38s) (5000 50%) 1.0454\n",
            "1m 47s (- 1m 27s) (5500 55%) 1.0138\n",
            "1m 56s (- 1m 17s) (6000 60%) 0.8788\n",
            "2m 5s (- 1m 7s) (6500 65%) 0.8653\n",
            "2m 13s (- 0m 57s) (7000 70%) 0.7760\n",
            "2m 22s (- 0m 47s) (7500 75%) 0.7116\n",
            "2m 31s (- 0m 37s) (8000 80%) 0.7107\n",
            "2m 41s (- 0m 28s) (8500 85%) 0.7061\n",
            "2m 53s (- 0m 19s) (9000 90%) 0.6563\n",
            "3m 1s (- 0m 9s) (9500 95%) 0.6547\n",
            "3m 10s (- 0m 0s) (10000 100%) 0.6222\n"
          ]
        }
      ]
    },
    {
      "cell_type": "markdown",
      "metadata": {
        "id": "nBmWxjhU6q9l"
      },
      "source": [
        "# 5. Evaluation"
      ]
    },
    {
      "cell_type": "code",
      "metadata": {
        "id": "hjJxQROt6q9m"
      },
      "source": [
        "def evaluate(encoder, decoder, sentence, max_length=MAX_LENGTH):\n",
        "    with torch.no_grad():\n",
        "        input_sent = pre_process([sentence])[0]\n",
        "        intput_index = [word_to_ix[word] for word in input_sent]\n",
        "        input_tensor = torch.LongTensor([[ind] for ind in intput_index]).to(device)\n",
        "\n",
        "        input_length = input_tensor.size()[0]\n",
        "        encoder_hidden = encoder.initHidden()\n",
        "\n",
        "        encoder_hiddens = torch.zeros(max_length, encoder.hidden_size, device=device)\n",
        "\n",
        "        for ei in range(input_length):\n",
        "            encoder_output, encoder_hidden = encoder(input_tensor[ei], encoder_hidden)\n",
        "            encoder_hiddens[ei] += encoder_hidden[0, 0]\n",
        "\n",
        "        decoder_input = torch.tensor([[word_to_ix[\"<BOS>\"]]], device=device)  # SOS\n",
        "\n",
        "        decoder_hidden = encoder_hidden\n",
        "\n",
        "        decoded_words = []\n",
        "\n",
        "        for di in range(max_length):\n",
        "            decoder_output, decoder_hidden = decoder(decoder_input, decoder_hidden, encoder_hiddens)\n",
        "            topv, topi = decoder_output.data.topk(1) # simply adopt the predicted tag with the highest probabiity\n",
        "            if topi.item() == word_to_ix[\"<EOS>\"]: # if <EOS> is generated, stop the generation\n",
        "                decoded_words.append('<EOS>')\n",
        "                break\n",
        "            else:\n",
        "                decoded_words.append(word_list[topi.item()]) # get the predicted word based on the index\n",
        "            # use the predicted output as the input for the next time step generation\n",
        "            decoder_input = topi.squeeze().detach()\n",
        "\n",
        "        return decoded_words"
      ],
      "execution_count": null,
      "outputs": []
    },
    {
      "cell_type": "code",
      "metadata": {
        "id": "wPVxkdIV6q9p",
        "colab": {
          "base_uri": "https://localhost:8080/"
        },
        "outputId": "23937593-08af-4b8c-c44c-2a72b96a3163"
      },
      "source": [
        "sentence1 = \"Are you in love with me?\"\n",
        "sentence2 = \"Who do you love\"\n",
        "sentence3 = \"Are you able to check my email?\"\n",
        "sentence4 = \"You're the best\"\n",
        "\n",
        "print(evaluate(encoder1, attn_decoder1, sentence1, max_length=MAX_LENGTH))\n",
        "print(evaluate(encoder1, attn_decoder1, sentence2, max_length=MAX_LENGTH))\n",
        "print(evaluate(encoder1, attn_decoder1, sentence3, max_length=MAX_LENGTH))\n",
        "print(evaluate(encoder1, attn_decoder1, sentence4, max_length=MAX_LENGTH))"
      ],
      "execution_count": null,
      "outputs": [
        {
          "output_type": "stream",
          "name": "stdout",
          "text": [
            "['you', 'are', 'pretty', 'neat', '<EOS>']\n",
            "['love', 'sounds', 'pretty', 'magical', '<EOS>']\n",
            "['i', 'am', 'a', 'bot', 'who', 'was', 'created', 'by', 'humans', '<EOS>']\n",
            "['i', 'am', 'a', 'bot', 'who', 'was', 'created', 'by', 'humans', '<EOS>']\n"
          ]
        }
      ]
    },
    {
      "cell_type": "markdown",
      "source": [
        "# Workshop 7 Exercise\n",
        "Please complete the following **exercise** for Workshop 7 and check with your Tutor.\n"
      ],
      "metadata": {
        "id": "kWhZYc6IByrz"
      }
    },
    {
      "cell_type": "markdown",
      "metadata": {
        "id": "IfV3j4_ukfFg"
      },
      "source": [
        "## Exercise. Dot Product Attention VS. Scaled Dot Product Attention\n",
        "Provided below is the implementation of the **Dot Product** attention. Please go through and try to change the **Dot Product** attention into **Scaled Dot Product** attention. You can refer to their definitions:\n",
        "\n",
        "\n",
        "\n",
        "**Dot Product:**\n",
        "\n",
        "![Dot_Product](https://drive.google.com/uc?id=1QtBgCp53e_6A_vzaMFEo89GJbTxnXagJ)\n",
        "\n",
        "**Scaled Dot Product:**\n",
        "\n",
        "![Scaled_Dot_Product](https://drive.google.com/uc?id=1v6n9WChBVfy0mBG2yxK9MUvGKzVGCmOt)\n",
        "\n",
        "\n",
        "\n"
      ]
    },
    {
      "cell_type": "code",
      "metadata": {
        "id": "jG7UGy1Wkx1v"
      },
      "source": [
        "class AttnDecoderRNN(nn.Module):\n",
        "    ATTN_TYPE_DOT_PRODUCT = \"Dot Product\"\n",
        "    ATTN_TYPE_SCALE_DOT_PRODUCT = \"Scale Dot Product\"\n",
        "\n",
        "    def __init__(self, hidden_size, output_size, embedding, dropout_p=0.1, max_length=MAX_LENGTH):\n",
        "        super(AttnDecoderRNN, self).__init__()\n",
        "        self.hidden_size = hidden_size\n",
        "        self.output_size = output_size\n",
        "        self.dropout_p = dropout_p\n",
        "        self.max_length = max_length\n",
        "\n",
        "        self.embedding = embedding\n",
        "        self.dropout = nn.Dropout(self.dropout_p)\n",
        "        self.gru = nn.GRU(self.hidden_size, self.hidden_size)\n",
        "        self.out = nn.Linear(self.hidden_size*2, self.output_size)\n",
        "\n",
        "\n",
        "    def cal_attention(self, hidden, encoder_hiddens, method):\n",
        "        # Dot Product Attention\n",
        "        if method == AttnDecoderRNN.ATTN_TYPE_DOT_PRODUCT:\n",
        "            # bmm: https://pytorch.org/docs/master/generated/torch.bmm.html\n",
        "            attn_weights = F.softmax(torch.bmm(hidden, encoder_hiddens.T.unsqueeze(0)),dim=-1)\n",
        "            attn_output = torch.bmm(attn_weights, encoder_hiddens.unsqueeze(0))\n",
        "            concat_output = torch.cat((attn_output[0], hidden[0]), 1)\n",
        "        # Scaled Dot Product Attention\n",
        "        elif method == AttnDecoderRNN.ATTN_TYPE_SCALE_DOT_PRODUCT:\n",
        "            # [TODO] COMPLETE THIS PART - Scaled Dot Product calculation method\n",
        "            # Hint: - Try to think about what the n is about in the equation\n",
        "            #       - Then, all you need to do is to apply the scaling (devided by the square-root of n) to the original score of the Dot Product Attention, before applying the softmax\n",
        "            #       - Considering using np.sqrt() from numpy for conducting the non-negative square-root function\n",
        "            attn_weights =\n",
        "            attn_output =\n",
        "            concat_output =\n",
        "\n",
        "        return concat_output\n",
        "\n",
        "    def forward(self, input, hidden, encoder_hiddens):\n",
        "        embedded = self.embedding(input).view(1, 1, -1)\n",
        "        embedded = self.dropout(embedded)\n",
        "\n",
        "        _, hidden = self.gru(embedded, hidden)\n",
        "\n",
        "        ## The following attention score calculation method is Dot Product for now\n",
        "        ## It can be switched to Scaled Dot Product calculation method\n",
        "        concat_output = self.cal_attention(hidden, encoder_hiddens, AttnDecoderRNN.ATTN_TYPE_DOT_PRODUCT)\n",
        "        # concat_output = self.cal_attention(hidden, encoder_hiddens, AttnDecoderRNN.ATTN_TYPE_SCALE_DOT_PRODUCT)\n",
        "\n",
        "        output = F.log_softmax(self.out(concat_output), dim=1)\n",
        "        return output, hidden\n",
        "\n",
        "    def initHidden(self):\n",
        "        return torch.zeros(1, 1, self.hidden_size, device=device)\n",
        "\n"
      ],
      "execution_count": null,
      "outputs": []
    }
  ]
}