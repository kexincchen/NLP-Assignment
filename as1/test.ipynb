{
 "cells": [
  {
   "cell_type": "code",
   "execution_count": 1,
   "metadata": {},
   "outputs": [
    {
     "data": {
      "text/plain": [
       "[<re.Match object; span=(0, 9), match='@addictd2'>,\n",
       " None,\n",
       " None,\n",
       " <re.Match object; span=(0, 5), match='hello'>]"
      ]
     },
     "execution_count": 1,
     "metadata": {},
     "output_type": "execute_result"
    }
   ],
   "source": [
    "import re\n",
    "\n",
    "# pattern = re.compile(r'.*[a-zA-Z].*')\n",
    "pattern = re.compile(r'.[a-zA-Z]+.')\n",
    "words = [\n",
    "    \"@addictd2success\",\n",
    "    \"123\",\n",
    "    \"??\",\n",
    "    \"hello\"\n",
    "]\n",
    "\n",
    "ans = [pattern.match(word) for word in words]\n",
    "ans"
   ]
  },
  {
   "cell_type": "code",
   "execution_count": 2,
   "metadata": {},
   "outputs": [
    {
     "name": "stdout",
     "output_type": "stream",
     "text": [
      "['#', 'thema', 'n', 'plan', 'ned', 'it']\n"
     ]
    },
    {
     "name": "stderr",
     "output_type": "stream",
     "text": [
      "[nltk_data] Downloading package words to /Users/clarec/nltk_data...\n",
      "[nltk_data]   Package words is already up-to-date!\n",
      "[nltk_data] Downloading package wordnet to /Users/clarec/nltk_data...\n",
      "[nltk_data]   Package wordnet is already up-to-date!\n"
     ]
    }
   ],
   "source": [
    "import nltk\n",
    "from nltk.corpus import wordnet\n",
    "nltk.download('words')\n",
    "nltk.download('wordnet')\n",
    "\n",
    "lemmatizer = nltk.stem.wordnet.WordNetLemmatizer()\n",
    "words = set(nltk.corpus.words.words()) #a list of words provided by NLTK\n",
    "words = set([ word.lower() for word in words ]) #lowercase all the words for better matching\n",
    "\n",
    "def lemmatize(word):\n",
    "    lemma = lemmatizer.lemmatize(word,'v')\n",
    "    if lemma == word:\n",
    "        lemma = lemmatizer.lemmatize(word,'n')\n",
    "    return lemma\n",
    "\n",
    "def max_match(text, dictionary):\n",
    "    tokens = []\n",
    "    while text:\n",
    "        match_found = False\n",
    "        # Start with the longest possible substring\n",
    "        for length in range(len(text), 0, -1):\n",
    "            candidate = text[:length]\n",
    "            if candidate in dictionary:\n",
    "                tokens.append(candidate)\n",
    "                text = text[length:]\n",
    "                match_found = True\n",
    "                break\n",
    "        if not match_found:\n",
    "            # No match found, treat the first character as a token\n",
    "            tokens.append(text[0])\n",
    "            text = text[1:]\n",
    "    return tokens\n",
    "\n",
    "# Example usage\n",
    "dictionary = {\"the\", \"a\", \"man\", \"plan\", \"canal\", \"panama\", \"the\", \"man\", \"planned\", \"it\"}\n",
    "text = \"#themanplannedit\"\n",
    "tokens = max_match(text, words)\n",
    "print(tokens)\n"
   ]
  },
  {
   "cell_type": "code",
   "execution_count": 3,
   "metadata": {},
   "outputs": [
    {
     "data": {
      "text/plain": [
       "False"
      ]
     },
     "execution_count": 3,
     "metadata": {},
     "output_type": "execute_result"
    }
   ],
   "source": [
    "lemmatize(\"vegan\") in words"
   ]
  },
  {
   "cell_type": "code",
   "execution_count": 4,
   "metadata": {},
   "outputs": [
    {
     "name": "stdout",
     "output_type": "stream",
     "text": [
      "The word 'freedom' appears 119 times in the Brown Corpus.\n"
     ]
    }
   ],
   "source": [
    "from nltk.corpus import brown\n",
    "from nltk.probability import FreqDist\n",
    "\n",
    "# Load the entire Brown Corpus\n",
    "words = brown.words()\n",
    "\n",
    "# Create a frequency distribution\n",
    "freq_dist = FreqDist(words)\n",
    "\n",
    "# Specify the word whose frequency you want to find\n",
    "word = 'freedom'\n",
    "\n",
    "# Get the frequency of the word\n",
    "frequency = freq_dist[word]\n",
    "\n",
    "print(f\"The word '{word}' appears {frequency} times in the Brown Corpus.\")\n"
   ]
  },
  {
   "cell_type": "code",
   "execution_count": 5,
   "metadata": {},
   "outputs": [
    {
     "name": "stderr",
     "output_type": "stream",
     "text": [
      "[nltk_data] Downloading package brown to /Users/clarec/nltk_data...\n",
      "[nltk_data]   Package brown is already up-to-date!\n"
     ]
    },
    {
     "name": "stdout",
     "output_type": "stream",
     "text": [
      "-42.04429044974072\n"
     ]
    }
   ],
   "source": [
    "import math\n",
    "import nltk\n",
    "from nltk.corpus import brown\n",
    "from nltk.probability import FreqDist\n",
    "\n",
    "# Ensure necessary NLTK data is downloaded\n",
    "nltk.download('brown')\n",
    "\n",
    "# Load words from the Brown Corpus\n",
    "brown_words = brown.words()\n",
    "\n",
    "# Correctly lowercase the words from the Brown Corpus\n",
    "brown_words = [x.lower() for x in brown_words]  # Fixed to use brown_words\n",
    "total_num_words = len(brown_words)\n",
    "freq_dist = FreqDist(brown_words)\n",
    "num_vocab = len(set(brown_words))\n",
    "\n",
    "def calculate_unigram_score(tokenized_words):\n",
    "    ans = 0\n",
    "    for word in tokenized_words:\n",
    "        ans += math.log((freq_dist[word] + 1) / (total_num_words + num_vocab))\n",
    "    \n",
    "    return ans\n",
    "\n",
    "tokens = [\"#\", \"a\", \"bc\", \"d\"]\n",
    "print(calculate_unigram_score(tokens))  # The output will depend on the frequencies\n"
   ]
  },
  {
   "cell_type": "code",
   "execution_count": 6,
   "metadata": {},
   "outputs": [
    {
     "name": "stderr",
     "output_type": "stream",
     "text": [
      "[nltk_data] Downloading package brown to /Users/clarec/nltk_data...\n",
      "[nltk_data]   Package brown is already up-to-date!\n"
     ]
    }
   ],
   "source": [
    "import nltk\n",
    "from nltk.corpus import brown\n",
    "from nltk.probability import FreqDist\n",
    "from math import log\n",
    "\n",
    "nltk.download('brown')\n",
    "\n",
    "# Prepare the unigram language model\n",
    "brown_words = [word.lower() for word in brown.words()]\n",
    "freq_dist = FreqDist(brown_words)\n",
    "total_num_words = len(brown_words)\n",
    "num_vocab = len(set(brown_words))\n",
    "\n",
    "def unigram_log_prob(word, freq_dist, total_num_words, num_vocab):\n",
    "    return log((freq_dist[word] + 1) / (total_num_words + num_vocab))\n",
    "\n",
    "def calculate_sequence_log_prob(sequence, freq_dist, total_num_words, num_vocab):\n",
    "    log_prob = 0\n",
    "    for word in sequence:\n",
    "        log_prob += unigram_log_prob(word, freq_dist, total_num_words, num_vocab)\n",
    "    return log_prob\n",
    "\n",
    "# Assume max_match and reversed_max_match functions are defined elsewhere\n",
    "# These functions should tokenize the input text and return a list of tokens\n",
    "\n",
    "# Example hashtags\n",
    "hashtags = [\"#newrecord\", \"#fastestrunner\"]\n",
    "\n"
   ]
  },
  {
   "cell_type": "code",
   "execution_count": 7,
   "metadata": {},
   "outputs": [
    {
     "data": {
      "text/plain": [
       "-48.22645989116989"
      ]
     },
     "execution_count": 7,
     "metadata": {},
     "output_type": "execute_result"
    }
   ],
   "source": [
    "calculate_sequence_log_prob([\"#\", \"take\", \"ab\", \"reak\"], freq_dist, total_num_words, num_vocab)"
   ]
  },
  {
   "cell_type": "markdown",
   "metadata": {},
   "source": []
  }
 ],
 "metadata": {
  "kernelspec": {
   "display_name": "nlp",
   "language": "python",
   "name": "python3"
  },
  "language_info": {
   "codemirror_mode": {
    "name": "ipython",
    "version": 3
   },
   "file_extension": ".py",
   "mimetype": "text/x-python",
   "name": "python",
   "nbconvert_exporter": "python",
   "pygments_lexer": "ipython3",
   "version": "3.8.19"
  }
 },
 "nbformat": 4,
 "nbformat_minor": 2
}
